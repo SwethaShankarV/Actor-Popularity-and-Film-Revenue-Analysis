{
  "cells": [
    {
      "cell_type": "code",
      "execution_count": null,
      "metadata": {
        "execution": {
          "iopub.execute_input": "2023-12-07T15:33:21.326280Z",
          "iopub.status.busy": "2023-12-07T15:33:21.325923Z",
          "iopub.status.idle": "2023-12-07T15:33:21.682266Z",
          "shell.execute_reply": "2023-12-07T15:33:21.681467Z",
          "shell.execute_reply.started": "2023-12-07T15:33:21.326252Z"
        },
        "id": "pjTFGAYxvzPK",
        "trusted": true
      },
      "outputs": [],
      "source": [
        "from sklearn.model_selection import train_test_split\n",
        "from sklearn.preprocessing import StandardScaler, OneHotEncoder\n",
        "from sklearn.compose import ColumnTransformer\n",
        "from sklearn.pipeline import Pipeline\n",
        "from sklearn.linear_model import LinearRegression\n",
        "from sklearn.impute import SimpleImputer\n",
        "from sklearn.pipeline import Pipeline\n",
        "from sklearn.metrics import mean_squared_error, r2_score\n",
        "import matplotlib.pyplot as plt\n",
        "import json\n",
        "import torch\n",
        "from torch.utils.data import DataLoader, TensorDataset\n",
        "import numpy as np\n",
        "import pandas as pd"
      ]
    },
    {
      "cell_type": "code",
      "execution_count": null,
      "metadata": {
        "execution": {
          "iopub.execute_input": "2023-12-07T15:33:22.503815Z",
          "iopub.status.busy": "2023-12-07T15:33:22.503342Z",
          "iopub.status.idle": "2023-12-07T15:33:47.882802Z",
          "shell.execute_reply": "2023-12-07T15:33:47.881987Z",
          "shell.execute_reply.started": "2023-12-07T15:33:22.503785Z"
        },
        "id": "EA1VYmGYRPxU",
        "outputId": "3ae4502a-725d-4a6d-a505-56e3bce2a0fd",
        "trusted": true
      },
      "outputs": [
        {
          "name": "stderr",
          "output_type": "stream",
          "text": [
            "/tmp/ipykernel_47/886477026.py:2: DtypeWarning: Columns (10) have mixed types. Specify dtype option on import or set low_memory=False.\n",
            "  movies_metadata = pd.read_csv('/kaggle/input/the-movies-dataset/movies_metadata.csv')\n"
          ]
        }
      ],
      "source": [
        "# Load datasets\n",
        "movies_metadata = pd.read_csv('/kaggle/input/the-movies-dataset/movies_metadata.csv')\n",
        "ratings = pd.read_csv('/kaggle/input/the-movies-dataset/ratings.csv')\n",
        "# Load the credits data\n",
        "credits = pd.read_csv('/kaggle/input/the-movies-dataset/credits.csv')"
      ]
    },
    {
      "cell_type": "code",
      "execution_count": null,
      "metadata": {
        "execution": {
          "iopub.execute_input": "2023-12-07T15:33:47.884646Z",
          "iopub.status.busy": "2023-12-07T15:33:47.884360Z",
          "iopub.status.idle": "2023-12-07T15:34:06.906486Z",
          "shell.execute_reply": "2023-12-07T15:34:06.905537Z",
          "shell.execute_reply.started": "2023-12-07T15:33:47.884622Z"
        },
        "id": "DFscLJMf2b2P",
        "outputId": "2e663bcd-862b-4200-cfff-7658dbc9d923",
        "trusted": true
      },
      "outputs": [
        {
          "data": {
            "text/html": [
              "<div>\n",
              "<style scoped>\n",
              "    .dataframe tbody tr th:only-of-type {\n",
              "        vertical-align: middle;\n",
              "    }\n",
              "\n",
              "    .dataframe tbody tr th {\n",
              "        vertical-align: top;\n",
              "    }\n",
              "\n",
              "    .dataframe thead th {\n",
              "        text-align: right;\n",
              "    }\n",
              "</style>\n",
              "<table border=\"1\" class=\"dataframe\">\n",
              "  <thead>\n",
              "    <tr style=\"text-align: right;\">\n",
              "      <th></th>\n",
              "      <th>adult</th>\n",
              "      <th>belongs_to_collection</th>\n",
              "      <th>budget</th>\n",
              "      <th>genres</th>\n",
              "      <th>homepage</th>\n",
              "      <th>id</th>\n",
              "      <th>imdb_id</th>\n",
              "      <th>original_language</th>\n",
              "      <th>original_title</th>\n",
              "      <th>overview</th>\n",
              "      <th>...</th>\n",
              "      <th>status</th>\n",
              "      <th>tagline</th>\n",
              "      <th>title</th>\n",
              "      <th>video</th>\n",
              "      <th>vote_average</th>\n",
              "      <th>vote_count</th>\n",
              "      <th>userId</th>\n",
              "      <th>movieId</th>\n",
              "      <th>rating</th>\n",
              "      <th>timestamp</th>\n",
              "    </tr>\n",
              "  </thead>\n",
              "  <tbody>\n",
              "    <tr>\n",
              "      <th>0</th>\n",
              "      <td>False</td>\n",
              "      <td>{'id': 10194, 'name': 'Toy Story Collection', ...</td>\n",
              "      <td>30000000</td>\n",
              "      <td>[{'id': 16, 'name': 'Animation'}, {'id': 35, '...</td>\n",
              "      <td>http://toystory.disney.com/toy-story</td>\n",
              "      <td>862.0</td>\n",
              "      <td>tt0114709</td>\n",
              "      <td>en</td>\n",
              "      <td>Toy Story</td>\n",
              "      <td>Led by Woody, Andy's toys live happily in his ...</td>\n",
              "      <td>...</td>\n",
              "      <td>Released</td>\n",
              "      <td>NaN</td>\n",
              "      <td>Toy Story</td>\n",
              "      <td>False</td>\n",
              "      <td>7.7</td>\n",
              "      <td>5415.0</td>\n",
              "      <td>1923</td>\n",
              "      <td>862.0</td>\n",
              "      <td>3.0</td>\n",
              "      <td>858335006</td>\n",
              "    </tr>\n",
              "    <tr>\n",
              "      <th>1</th>\n",
              "      <td>False</td>\n",
              "      <td>{'id': 10194, 'name': 'Toy Story Collection', ...</td>\n",
              "      <td>30000000</td>\n",
              "      <td>[{'id': 16, 'name': 'Animation'}, {'id': 35, '...</td>\n",
              "      <td>http://toystory.disney.com/toy-story</td>\n",
              "      <td>862.0</td>\n",
              "      <td>tt0114709</td>\n",
              "      <td>en</td>\n",
              "      <td>Toy Story</td>\n",
              "      <td>Led by Woody, Andy's toys live happily in his ...</td>\n",
              "      <td>...</td>\n",
              "      <td>Released</td>\n",
              "      <td>NaN</td>\n",
              "      <td>Toy Story</td>\n",
              "      <td>False</td>\n",
              "      <td>7.7</td>\n",
              "      <td>5415.0</td>\n",
              "      <td>2103</td>\n",
              "      <td>862.0</td>\n",
              "      <td>5.0</td>\n",
              "      <td>946044912</td>\n",
              "    </tr>\n",
              "    <tr>\n",
              "      <th>2</th>\n",
              "      <td>False</td>\n",
              "      <td>{'id': 10194, 'name': 'Toy Story Collection', ...</td>\n",
              "      <td>30000000</td>\n",
              "      <td>[{'id': 16, 'name': 'Animation'}, {'id': 35, '...</td>\n",
              "      <td>http://toystory.disney.com/toy-story</td>\n",
              "      <td>862.0</td>\n",
              "      <td>tt0114709</td>\n",
              "      <td>en</td>\n",
              "      <td>Toy Story</td>\n",
              "      <td>Led by Woody, Andy's toys live happily in his ...</td>\n",
              "      <td>...</td>\n",
              "      <td>Released</td>\n",
              "      <td>NaN</td>\n",
              "      <td>Toy Story</td>\n",
              "      <td>False</td>\n",
              "      <td>7.7</td>\n",
              "      <td>5415.0</td>\n",
              "      <td>5380</td>\n",
              "      <td>862.0</td>\n",
              "      <td>1.0</td>\n",
              "      <td>878941641</td>\n",
              "    </tr>\n",
              "    <tr>\n",
              "      <th>3</th>\n",
              "      <td>False</td>\n",
              "      <td>{'id': 10194, 'name': 'Toy Story Collection', ...</td>\n",
              "      <td>30000000</td>\n",
              "      <td>[{'id': 16, 'name': 'Animation'}, {'id': 35, '...</td>\n",
              "      <td>http://toystory.disney.com/toy-story</td>\n",
              "      <td>862.0</td>\n",
              "      <td>tt0114709</td>\n",
              "      <td>en</td>\n",
              "      <td>Toy Story</td>\n",
              "      <td>Led by Woody, Andy's toys live happily in his ...</td>\n",
              "      <td>...</td>\n",
              "      <td>Released</td>\n",
              "      <td>NaN</td>\n",
              "      <td>Toy Story</td>\n",
              "      <td>False</td>\n",
              "      <td>7.7</td>\n",
              "      <td>5415.0</td>\n",
              "      <td>6177</td>\n",
              "      <td>862.0</td>\n",
              "      <td>4.0</td>\n",
              "      <td>859415226</td>\n",
              "    </tr>\n",
              "    <tr>\n",
              "      <th>4</th>\n",
              "      <td>False</td>\n",
              "      <td>{'id': 10194, 'name': 'Toy Story Collection', ...</td>\n",
              "      <td>30000000</td>\n",
              "      <td>[{'id': 16, 'name': 'Animation'}, {'id': 35, '...</td>\n",
              "      <td>http://toystory.disney.com/toy-story</td>\n",
              "      <td>862.0</td>\n",
              "      <td>tt0114709</td>\n",
              "      <td>en</td>\n",
              "      <td>Toy Story</td>\n",
              "      <td>Led by Woody, Andy's toys live happily in his ...</td>\n",
              "      <td>...</td>\n",
              "      <td>Released</td>\n",
              "      <td>NaN</td>\n",
              "      <td>Toy Story</td>\n",
              "      <td>False</td>\n",
              "      <td>7.7</td>\n",
              "      <td>5415.0</td>\n",
              "      <td>6525</td>\n",
              "      <td>862.0</td>\n",
              "      <td>4.0</td>\n",
              "      <td>857388995</td>\n",
              "    </tr>\n",
              "  </tbody>\n",
              "</table>\n",
              "<p>5 rows × 28 columns</p>\n",
              "</div>"
            ],
            "text/plain": [
              "   adult                              belongs_to_collection    budget  \\\n",
              "0  False  {'id': 10194, 'name': 'Toy Story Collection', ...  30000000   \n",
              "1  False  {'id': 10194, 'name': 'Toy Story Collection', ...  30000000   \n",
              "2  False  {'id': 10194, 'name': 'Toy Story Collection', ...  30000000   \n",
              "3  False  {'id': 10194, 'name': 'Toy Story Collection', ...  30000000   \n",
              "4  False  {'id': 10194, 'name': 'Toy Story Collection', ...  30000000   \n",
              "\n",
              "                                              genres  \\\n",
              "0  [{'id': 16, 'name': 'Animation'}, {'id': 35, '...   \n",
              "1  [{'id': 16, 'name': 'Animation'}, {'id': 35, '...   \n",
              "2  [{'id': 16, 'name': 'Animation'}, {'id': 35, '...   \n",
              "3  [{'id': 16, 'name': 'Animation'}, {'id': 35, '...   \n",
              "4  [{'id': 16, 'name': 'Animation'}, {'id': 35, '...   \n",
              "\n",
              "                               homepage     id    imdb_id original_language  \\\n",
              "0  http://toystory.disney.com/toy-story  862.0  tt0114709                en   \n",
              "1  http://toystory.disney.com/toy-story  862.0  tt0114709                en   \n",
              "2  http://toystory.disney.com/toy-story  862.0  tt0114709                en   \n",
              "3  http://toystory.disney.com/toy-story  862.0  tt0114709                en   \n",
              "4  http://toystory.disney.com/toy-story  862.0  tt0114709                en   \n",
              "\n",
              "  original_title                                           overview  ...  \\\n",
              "0      Toy Story  Led by Woody, Andy's toys live happily in his ...  ...   \n",
              "1      Toy Story  Led by Woody, Andy's toys live happily in his ...  ...   \n",
              "2      Toy Story  Led by Woody, Andy's toys live happily in his ...  ...   \n",
              "3      Toy Story  Led by Woody, Andy's toys live happily in his ...  ...   \n",
              "4      Toy Story  Led by Woody, Andy's toys live happily in his ...  ...   \n",
              "\n",
              "     status tagline      title  video vote_average  vote_count  userId  \\\n",
              "0  Released     NaN  Toy Story  False          7.7      5415.0    1923   \n",
              "1  Released     NaN  Toy Story  False          7.7      5415.0    2103   \n",
              "2  Released     NaN  Toy Story  False          7.7      5415.0    5380   \n",
              "3  Released     NaN  Toy Story  False          7.7      5415.0    6177   \n",
              "4  Released     NaN  Toy Story  False          7.7      5415.0    6525   \n",
              "\n",
              "  movieId rating  timestamp  \n",
              "0   862.0    3.0  858335006  \n",
              "1   862.0    5.0  946044912  \n",
              "2   862.0    1.0  878941641  \n",
              "3   862.0    4.0  859415226  \n",
              "4   862.0    4.0  857388995  \n",
              "\n",
              "[5 rows x 28 columns]"
            ]
          },
          "execution_count": 6,
          "metadata": {},
          "output_type": "execute_result"
        }
      ],
      "source": [
        "# Convert the 'id' in movies_metadata and 'movieId' in ratings to the same type\n",
        "movies_metadata['id'] = pd.to_numeric(movies_metadata['id'], errors='coerce')\n",
        "ratings['movieId'] = ratings['movieId'].astype('float64')\n",
        "\n",
        "# Dropping any rows with NaNs that were created due to conversion errors\n",
        "movies_metadata = movies_metadata.dropna(subset=['id'])\n",
        "ratings = ratings.dropna(subset=['movieId'])\n",
        "\n",
        "# Merging datasets\n",
        "merged_data = pd.merge(movies_metadata, ratings, left_on='id', right_on='movieId').copy()\n",
        "merged_data.head()"
      ]
    },
    {
      "cell_type": "code",
      "execution_count": null,
      "metadata": {
        "execution": {
          "iopub.execute_input": "2023-12-07T15:34:06.907780Z",
          "iopub.status.busy": "2023-12-07T15:34:06.907506Z",
          "iopub.status.idle": "2023-12-07T15:34:49.834581Z",
          "shell.execute_reply": "2023-12-07T15:34:49.833591Z",
          "shell.execute_reply.started": "2023-12-07T15:34:06.907756Z"
        },
        "id": "zvd-aQ5L2Cg2",
        "outputId": "49e51ab0-3cc3-419f-ecfa-1458835eea34",
        "trusted": true
      },
      "outputs": [
        {
          "name": "stderr",
          "output_type": "stream",
          "text": [
            "/tmp/ipykernel_47/8175913.py:2: FutureWarning: DataFrame.fillna with 'method' is deprecated and will raise in a future version. Use obj.ffill() or obj.bfill() instead.\n",
            "  merged_data.fillna(method='ffill', inplace=True)\n"
          ]
        }
      ],
      "source": [
        "# Example of handling missing values\n",
        "merged_data.fillna(method='ffill', inplace=True)\n",
        "merged_data = merged_data[merged_data['budget'] != '0']\n"
      ]
    },
    {
      "cell_type": "code",
      "execution_count": null,
      "metadata": {
        "execution": {
          "iopub.execute_input": "2023-12-07T15:34:49.837878Z",
          "iopub.status.busy": "2023-12-07T15:34:49.837177Z",
          "iopub.status.idle": "2023-12-07T15:34:49.844387Z",
          "shell.execute_reply": "2023-12-07T15:34:49.843387Z",
          "shell.execute_reply.started": "2023-12-07T15:34:49.837842Z"
        },
        "id": "3W_Y7HO5Fj1q",
        "trusted": true
      },
      "outputs": [],
      "source": [
        "def process_genres(genres_str):\n",
        "    \"\"\"\n",
        "    Process the genres column to count the number of genres.\n",
        "    :param genres_str: A JSON-like string representing genres.\n",
        "    :return: The count of genres.\n",
        "    \"\"\"\n",
        "    try:\n",
        "        genres = json.loads(genres_str.replace(\"'\", '\"'))\n",
        "        return len(genres)\n",
        "    except json.JSONDecodeError:\n",
        "        return 0\n",
        "\n",
        "def process_production_companies(companies_str):\n",
        "    \"\"\"\n",
        "    Process the production_companies column to count the number of companies.\n",
        "    :param companies_str: A JSON-like string representing production companies.\n",
        "    :return: The count of production companies.\n",
        "    \"\"\"\n",
        "    try:\n",
        "        companies = json.loads(companies_str.replace(\"'\", '\"'))\n",
        "        return len(companies)\n",
        "    except json.JSONDecodeError:\n",
        "        return 0\n"
      ]
    },
    {
      "cell_type": "code",
      "execution_count": null,
      "metadata": {
        "execution": {
          "iopub.execute_input": "2023-12-07T15:34:49.845720Z",
          "iopub.status.busy": "2023-12-07T15:34:49.845453Z",
          "iopub.status.idle": "2023-12-07T15:34:49.855880Z",
          "shell.execute_reply": "2023-12-07T15:34:49.854988Z",
          "shell.execute_reply.started": "2023-12-07T15:34:49.845697Z"
        },
        "id": "DCmpdZ0tJ3Na",
        "outputId": "a0d5ecb5-e084-4bde-f268-f948120d9cd0",
        "trusted": true
      },
      "outputs": [
        {
          "name": "stdout",
          "output_type": "stream",
          "text": [
            "Index(['adult', 'belongs_to_collection', 'budget', 'genres', 'homepage', 'id',\n",
            "       'imdb_id', 'original_language', 'original_title', 'overview',\n",
            "       'popularity', 'poster_path', 'production_companies',\n",
            "       'production_countries', 'release_date', 'revenue', 'runtime',\n",
            "       'spoken_languages', 'status', 'tagline', 'title', 'video',\n",
            "       'vote_average', 'vote_count', 'userId', 'movieId', 'rating',\n",
            "       'timestamp'],\n",
            "      dtype='object')\n"
          ]
        }
      ],
      "source": [
        "print(merged_data.columns)\n"
      ]
    },
    {
      "cell_type": "code",
      "execution_count": null,
      "metadata": {
        "execution": {
          "iopub.execute_input": "2023-12-07T15:34:49.857117Z",
          "iopub.status.busy": "2023-12-07T15:34:49.856820Z",
          "iopub.status.idle": "2023-12-07T15:36:12.060320Z",
          "shell.execute_reply": "2023-12-07T15:36:12.059357Z",
          "shell.execute_reply.started": "2023-12-07T15:34:49.857087Z"
        },
        "id": "CzV3AlybBoAU",
        "trusted": true
      },
      "outputs": [],
      "source": [
        "merged_data['num_genres'] = merged_data['genres'].apply(process_genres)\n",
        "merged_data['num_production_companies'] = merged_data['production_companies'].apply(process_production_companies)\n",
        "\n",
        "# Processing release_date\n",
        "merged_data['release_year'] = pd.to_datetime(merged_data['release_date']).dt.year\n",
        "merged_data['release_month'] = pd.to_datetime(merged_data['release_date']).dt.month\n",
        "merged_data['release_day'] = pd.to_datetime(merged_data['release_date']).dt.day\n",
        "\n",
        "# Defining numerical and categorical features\n",
        "numeric_features = ['vote_average', 'budget', 'num_genres', 'num_production_companies', 'release_year', 'release_month', 'release_day']\n"
      ]
    },
    {
      "cell_type": "code",
      "execution_count": null,
      "metadata": {
        "execution": {
          "iopub.execute_input": "2023-12-07T15:36:12.061897Z",
          "iopub.status.busy": "2023-12-07T15:36:12.061575Z",
          "iopub.status.idle": "2023-12-07T15:36:17.851809Z",
          "shell.execute_reply": "2023-12-07T15:36:17.850906Z",
          "shell.execute_reply.started": "2023-12-07T15:36:12.061870Z"
        },
        "id": "ASh98RDe-7j5",
        "outputId": "da35de9a-c4c1-4a5b-da19-43c3dd848e12",
        "trusted": true
      },
      "outputs": [
        {
          "name": "stdout",
          "output_type": "stream",
          "text": [
            "NaN in Targets: rating        0\n",
            "popularity    0\n",
            "dtype: int64\n"
          ]
        }
      ],
      "source": [
        "# Combine numeric and categorical features\n",
        "features = numeric_features\n",
        "\n",
        "# Define targets\n",
        "target = ['rating', 'popularity']\n",
        "\n",
        "merged_data.dropna(subset=target, inplace=True)\n",
        "print(\"NaN in Targets:\", merged_data[target].isna().sum())\n"
      ]
    },
    {
      "cell_type": "code",
      "execution_count": null,
      "metadata": {
        "execution": {
          "iopub.execute_input": "2023-12-07T15:36:17.853113Z",
          "iopub.status.busy": "2023-12-07T15:36:17.852844Z",
          "iopub.status.idle": "2023-12-07T15:36:17.860086Z",
          "shell.execute_reply": "2023-12-07T15:36:17.859267Z",
          "shell.execute_reply.started": "2023-12-07T15:36:17.853090Z"
        },
        "id": "iVhla9gqL7H2",
        "outputId": "6090740d-81d8-4815-a567-54d31798c453",
        "trusted": true
      },
      "outputs": [
        {
          "data": {
            "text/plain": [
              "0           30000000\n",
              "1           30000000\n",
              "2           30000000\n",
              "3           30000000\n",
              "4           30000000\n",
              "              ...   \n",
              "11435785     1200000\n",
              "11435786     1200000\n",
              "11435787     1200000\n",
              "11435788     1200000\n",
              "11435789     1200000\n",
              "Name: budget, Length: 6379672, dtype: object"
            ]
          },
          "execution_count": 12,
          "metadata": {},
          "output_type": "execute_result"
        }
      ],
      "source": [
        "merged_data['budget']"
      ]
    },
    {
      "cell_type": "code",
      "execution_count": null,
      "metadata": {
        "execution": {
          "iopub.execute_input": "2023-12-07T15:36:17.861669Z",
          "iopub.status.busy": "2023-12-07T15:36:17.861389Z",
          "iopub.status.idle": "2023-12-07T15:36:22.661284Z",
          "shell.execute_reply": "2023-12-07T15:36:22.660476Z",
          "shell.execute_reply.started": "2023-12-07T15:36:17.861645Z"
        },
        "id": "0TNCzafNMTw8",
        "trusted": true
      },
      "outputs": [],
      "source": [
        "X_lr = merged_data[features]  # Features for linear regression models\n",
        "\n",
        "# Splitting the data for ratings prediction (Linear Regression)\n",
        "X_train_lr, X_temp_lr, y_train_ratings, y_temp_ratings = train_test_split(X_lr, merged_data['rating'], test_size=0.3, random_state=42)\n",
        "X_test_ratings_lr, X_val_ratings_lr, y_test_ratings_lr, y_val_ratings_lr = train_test_split(X_temp_lr, y_temp_ratings, test_size=0.5, random_state=42)\n",
        "\n",
        "# Splitting the data for popularity prediction (Linear Regression)\n",
        "X_train_lr, X_temp_lr, y_train_popularity, y_temp_popularity = train_test_split(X_lr, merged_data['popularity'], test_size=0.3, random_state=42)\n",
        "X_test_popularity_lr, X_val_popularity_lr, y_test_popularity_lr, y_val_popularity_lr = train_test_split(X_temp_lr, y_temp_popularity, test_size=0.5, random_state=42)\n"
      ]
    },
    {
      "cell_type": "code",
      "execution_count": null,
      "metadata": {
        "execution": {
          "iopub.execute_input": "2023-12-07T15:36:22.664113Z",
          "iopub.status.busy": "2023-12-07T15:36:22.663818Z",
          "iopub.status.idle": "2023-12-07T15:36:22.671256Z",
          "shell.execute_reply": "2023-12-07T15:36:22.670303Z",
          "shell.execute_reply.started": "2023-12-07T15:36:22.664089Z"
        },
        "id": "jsjoS0YT__4t",
        "outputId": "99fc1a8b-762a-4b99-81d2-66aaee805988",
        "trusted": true
      },
      "outputs": [
        {
          "data": {
            "text/plain": [
              "7602348      1000000\n",
              "4053385     25000000\n",
              "1722333     36000000\n",
              "978776       2500000\n",
              "1754317    160000000\n",
              "             ...    \n",
              "2108411     92620000\n",
              "3010408      4300000\n",
              "7672219      8000000\n",
              "6448081     28000000\n",
              "2237017     10000000\n",
              "Name: budget, Length: 4465770, dtype: object"
            ]
          },
          "execution_count": 14,
          "metadata": {},
          "output_type": "execute_result"
        }
      ],
      "source": [
        "X_train_lr['budget']"
      ]
    },
    {
      "cell_type": "code",
      "execution_count": null,
      "metadata": {
        "execution": {
          "iopub.execute_input": "2023-12-07T15:36:22.672624Z",
          "iopub.status.busy": "2023-12-07T15:36:22.672392Z",
          "iopub.status.idle": "2023-12-07T15:36:22.687409Z",
          "shell.execute_reply": "2023-12-07T15:36:22.686501Z",
          "shell.execute_reply.started": "2023-12-07T15:36:22.672603Z"
        },
        "id": "jASCcJ0LL7H3",
        "outputId": "0177a1a6-793e-4fe0-ee79-64cd9ae5f0f2",
        "trusted": true
      },
      "outputs": [
        {
          "data": {
            "text/html": [
              "<div>\n",
              "<style scoped>\n",
              "    .dataframe tbody tr th:only-of-type {\n",
              "        vertical-align: middle;\n",
              "    }\n",
              "\n",
              "    .dataframe tbody tr th {\n",
              "        vertical-align: top;\n",
              "    }\n",
              "\n",
              "    .dataframe thead th {\n",
              "        text-align: right;\n",
              "    }\n",
              "</style>\n",
              "<table border=\"1\" class=\"dataframe\">\n",
              "  <thead>\n",
              "    <tr style=\"text-align: right;\">\n",
              "      <th></th>\n",
              "      <th>vote_average</th>\n",
              "      <th>budget</th>\n",
              "      <th>num_genres</th>\n",
              "      <th>num_production_companies</th>\n",
              "      <th>release_year</th>\n",
              "      <th>release_month</th>\n",
              "      <th>release_day</th>\n",
              "    </tr>\n",
              "  </thead>\n",
              "  <tbody>\n",
              "    <tr>\n",
              "      <th>7602348</th>\n",
              "      <td>6.9</td>\n",
              "      <td>1000000</td>\n",
              "      <td>1</td>\n",
              "      <td>1</td>\n",
              "      <td>2004</td>\n",
              "      <td>2</td>\n",
              "      <td>10</td>\n",
              "    </tr>\n",
              "    <tr>\n",
              "      <th>4053385</th>\n",
              "      <td>6.8</td>\n",
              "      <td>25000000</td>\n",
              "      <td>3</td>\n",
              "      <td>3</td>\n",
              "      <td>2000</td>\n",
              "      <td>12</td>\n",
              "      <td>14</td>\n",
              "    </tr>\n",
              "    <tr>\n",
              "      <th>1722333</th>\n",
              "      <td>6.6</td>\n",
              "      <td>36000000</td>\n",
              "      <td>3</td>\n",
              "      <td>3</td>\n",
              "      <td>1997</td>\n",
              "      <td>5</td>\n",
              "      <td>2</td>\n",
              "    </tr>\n",
              "    <tr>\n",
              "      <th>978776</th>\n",
              "      <td>7.6</td>\n",
              "      <td>2500000</td>\n",
              "      <td>2</td>\n",
              "      <td>2</td>\n",
              "      <td>1967</td>\n",
              "      <td>7</td>\n",
              "      <td>18</td>\n",
              "    </tr>\n",
              "    <tr>\n",
              "      <th>1754317</th>\n",
              "      <td>4.1</td>\n",
              "      <td>160000000</td>\n",
              "      <td>3</td>\n",
              "      <td>2</td>\n",
              "      <td>1997</td>\n",
              "      <td>6</td>\n",
              "      <td>13</td>\n",
              "    </tr>\n",
              "  </tbody>\n",
              "</table>\n",
              "</div>"
            ],
            "text/plain": [
              "         vote_average     budget  num_genres  num_production_companies  \\\n",
              "7602348           6.9    1000000           1                         1   \n",
              "4053385           6.8   25000000           3                         3   \n",
              "1722333           6.6   36000000           3                         3   \n",
              "978776            7.6    2500000           2                         2   \n",
              "1754317           4.1  160000000           3                         2   \n",
              "\n",
              "         release_year  release_month  release_day  \n",
              "7602348          2004              2           10  \n",
              "4053385          2000             12           14  \n",
              "1722333          1997              5            2  \n",
              "978776           1967              7           18  \n",
              "1754317          1997              6           13  "
            ]
          },
          "execution_count": 15,
          "metadata": {},
          "output_type": "execute_result"
        }
      ],
      "source": [
        "X_train_lr.head()"
      ]
    },
    {
      "cell_type": "code",
      "execution_count": null,
      "metadata": {
        "execution": {
          "iopub.execute_input": "2023-12-07T15:52:31.436575Z",
          "iopub.status.busy": "2023-12-07T15:52:31.435880Z",
          "iopub.status.idle": "2023-12-07T15:52:52.673980Z",
          "shell.execute_reply": "2023-12-07T15:52:52.672936Z",
          "shell.execute_reply.started": "2023-12-07T15:52:31.436537Z"
        },
        "id": "2Ge53L0_L7H3",
        "outputId": "1e2558f7-c81d-4dce-c12d-cc5a036b7218",
        "trusted": true
      },
      "outputs": [
        {
          "name": "stderr",
          "output_type": "stream",
          "text": [
            "/opt/conda/lib/python3.10/site-packages/sklearn/utils/validation.py:767: FutureWarning: is_sparse is deprecated and will be removed in a future version. Check `isinstance(dtype, pd.SparseDtype)` instead.\n",
            "  if not hasattr(array, \"sparse\") and array.dtypes.apply(is_sparse).any():\n",
            "/opt/conda/lib/python3.10/site-packages/sklearn/utils/validation.py:605: FutureWarning: is_sparse is deprecated and will be removed in a future version. Check `isinstance(dtype, pd.SparseDtype)` instead.\n",
            "  if is_sparse(pd_dtype):\n",
            "/opt/conda/lib/python3.10/site-packages/sklearn/utils/validation.py:614: FutureWarning: is_sparse is deprecated and will be removed in a future version. Check `isinstance(dtype, pd.SparseDtype)` instead.\n",
            "  if is_sparse(pd_dtype) or not is_extension_array_dtype(pd_dtype):\n",
            "/opt/conda/lib/python3.10/site-packages/sklearn/utils/validation.py:767: FutureWarning: is_sparse is deprecated and will be removed in a future version. Check `isinstance(dtype, pd.SparseDtype)` instead.\n",
            "  if not hasattr(array, \"sparse\") and array.dtypes.apply(is_sparse).any():\n",
            "/opt/conda/lib/python3.10/site-packages/sklearn/utils/validation.py:605: FutureWarning: is_sparse is deprecated and will be removed in a future version. Check `isinstance(dtype, pd.SparseDtype)` instead.\n",
            "  if is_sparse(pd_dtype):\n",
            "/opt/conda/lib/python3.10/site-packages/sklearn/utils/validation.py:614: FutureWarning: is_sparse is deprecated and will be removed in a future version. Check `isinstance(dtype, pd.SparseDtype)` instead.\n",
            "  if is_sparse(pd_dtype) or not is_extension_array_dtype(pd_dtype):\n",
            "/opt/conda/lib/python3.10/site-packages/sklearn/utils/validation.py:767: FutureWarning: is_sparse is deprecated and will be removed in a future version. Check `isinstance(dtype, pd.SparseDtype)` instead.\n",
            "  if not hasattr(array, \"sparse\") and array.dtypes.apply(is_sparse).any():\n",
            "/opt/conda/lib/python3.10/site-packages/sklearn/utils/validation.py:605: FutureWarning: is_sparse is deprecated and will be removed in a future version. Check `isinstance(dtype, pd.SparseDtype)` instead.\n",
            "  if is_sparse(pd_dtype):\n",
            "/opt/conda/lib/python3.10/site-packages/sklearn/utils/validation.py:614: FutureWarning: is_sparse is deprecated and will be removed in a future version. Check `isinstance(dtype, pd.SparseDtype)` instead.\n",
            "  if is_sparse(pd_dtype) or not is_extension_array_dtype(pd_dtype):\n"
          ]
        },
        {
          "name": "stdout",
          "output_type": "stream",
          "text": [
            "Epoch 1, Training Loss: 14.663145065307617, Training Accuracy: 13.16%, Validation Loss: 14.613007545471191, Validation Accuracy: 13.73%\n",
            "Epoch 2, Training Loss: 14.60914134979248, Training Accuracy: 14.17%, Validation Loss: 14.559211730957031, Validation Accuracy: 15.09%\n",
            "Epoch 3, Training Loss: 14.5553560256958, Training Accuracy: 15.46%, Validation Loss: 14.505633354187012, Validation Accuracy: 15.37%\n",
            "Epoch 4, Training Loss: 14.501786231994629, Training Accuracy: 15.75%, Validation Loss: 14.45226764678955, Validation Accuracy: 15.30%\n",
            "Epoch 5, Training Loss: 14.448429107666016, Training Accuracy: 15.64%, Validation Loss: 14.399115562438965, Validation Accuracy: 15.34%\n",
            "Epoch 6, Training Loss: 14.39528751373291, Training Accuracy: 15.68%, Validation Loss: 14.346179008483887, Validation Accuracy: 15.44%\n",
            "Epoch 7, Training Loss: 14.342357635498047, Training Accuracy: 15.87%, Validation Loss: 14.293453216552734, Validation Accuracy: 15.18%\n",
            "Epoch 8, Training Loss: 14.289642333984375, Training Accuracy: 15.53%, Validation Loss: 14.240938186645508, Validation Accuracy: 15.70%\n",
            "Epoch 9, Training Loss: 14.23713493347168, Training Accuracy: 16.04%, Validation Loss: 14.188632011413574, Validation Accuracy: 15.64%\n",
            "Epoch 10, Training Loss: 14.184840202331543, Training Accuracy: 15.97%, Validation Loss: 14.136537551879883, Validation Accuracy: 15.67%\n",
            "Epoch 11, Training Loss: 14.1327543258667, Training Accuracy: 16.04%, Validation Loss: 14.084650039672852, Validation Accuracy: 18.76%\n",
            "Epoch 12, Training Loss: 14.080878257751465, Training Accuracy: 19.04%, Validation Loss: 14.032973289489746, Validation Accuracy: 19.52%\n",
            "Epoch 13, Training Loss: 14.02920913696289, Training Accuracy: 19.81%, Validation Loss: 13.981501579284668, Validation Accuracy: 19.25%\n",
            "Epoch 14, Training Loss: 13.97774600982666, Training Accuracy: 19.59%, Validation Loss: 13.93023681640625, Validation Accuracy: 19.34%\n",
            "Epoch 15, Training Loss: 13.926490783691406, Training Accuracy: 19.59%, Validation Loss: 13.87917709350586, Validation Accuracy: 22.60%\n",
            "Epoch 16, Training Loss: 13.875439643859863, Training Accuracy: 23.09%, Validation Loss: 13.82832145690918, Validation Accuracy: 22.49%\n",
            "Epoch 17, Training Loss: 13.824592590332031, Training Accuracy: 23.02%, Validation Loss: 13.777669906616211, Validation Accuracy: 23.00%\n",
            "Epoch 18, Training Loss: 13.773950576782227, Training Accuracy: 23.64%, Validation Loss: 13.727221488952637, Validation Accuracy: 22.75%\n",
            "Epoch 19, Training Loss: 13.723509788513184, Training Accuracy: 23.34%, Validation Loss: 13.676974296569824, Validation Accuracy: 22.84%\n",
            "Epoch 20, Training Loss: 13.673274040222168, Training Accuracy: 23.13%, Validation Loss: 13.62692928314209, Validation Accuracy: 22.68%\n",
            "Epoch 21, Training Loss: 13.623237609863281, Training Accuracy: 22.87%, Validation Loss: 13.577083587646484, Validation Accuracy: 23.30%\n",
            "Epoch 22, Training Loss: 13.57340145111084, Training Accuracy: 23.49%, Validation Loss: 13.527440071105957, Validation Accuracy: 23.45%\n",
            "Epoch 23, Training Loss: 13.523764610290527, Training Accuracy: 23.60%, Validation Loss: 13.477992057800293, Validation Accuracy: 25.23%\n",
            "Epoch 24, Training Loss: 13.47432804107666, Training Accuracy: 25.12%, Validation Loss: 13.428744316101074, Validation Accuracy: 25.49%\n",
            "Epoch 25, Training Loss: 13.425087928771973, Training Accuracy: 25.35%, Validation Loss: 13.379693031311035, Validation Accuracy: 26.53%\n",
            "Epoch 26, Training Loss: 13.376046180725098, Training Accuracy: 26.47%, Validation Loss: 13.330839157104492, Validation Accuracy: 26.62%\n",
            "Epoch 27, Training Loss: 13.327200889587402, Training Accuracy: 26.53%, Validation Loss: 13.282180786132812, Validation Accuracy: 30.89%\n",
            "Epoch 28, Training Loss: 13.278550148010254, Training Accuracy: 31.27%, Validation Loss: 13.233715057373047, Validation Accuracy: 27.38%\n",
            "Epoch 29, Training Loss: 13.230095863342285, Training Accuracy: 27.78%, Validation Loss: 13.185444831848145, Validation Accuracy: 27.80%\n",
            "Epoch 30, Training Loss: 13.18183422088623, Training Accuracy: 28.20%, Validation Loss: 13.137368202209473, Validation Accuracy: 28.17%\n",
            "Epoch 31, Training Loss: 13.133766174316406, Training Accuracy: 28.60%, Validation Loss: 13.089485168457031, Validation Accuracy: 28.68%\n",
            "Epoch 32, Training Loss: 13.085891723632812, Training Accuracy: 29.04%, Validation Loss: 13.041792869567871, Validation Accuracy: 28.53%\n",
            "Epoch 33, Training Loss: 13.0382080078125, Training Accuracy: 28.90%, Validation Loss: 12.994291305541992, Validation Accuracy: 30.02%\n",
            "Epoch 34, Training Loss: 12.990715026855469, Training Accuracy: 30.35%, Validation Loss: 12.946980476379395, Validation Accuracy: 29.83%\n",
            "Epoch 35, Training Loss: 12.943414688110352, Training Accuracy: 30.00%, Validation Loss: 12.899857521057129, Validation Accuracy: 29.99%\n",
            "Epoch 36, Training Loss: 12.896300315856934, Training Accuracy: 30.08%, Validation Loss: 12.852925300598145, Validation Accuracy: 30.33%\n",
            "Epoch 37, Training Loss: 12.849376678466797, Training Accuracy: 30.49%, Validation Loss: 12.806180000305176, Validation Accuracy: 31.12%\n",
            "Epoch 38, Training Loss: 12.802640914916992, Training Accuracy: 31.41%, Validation Loss: 12.759622573852539, Validation Accuracy: 31.18%\n",
            "Epoch 39, Training Loss: 12.756091117858887, Training Accuracy: 31.56%, Validation Loss: 12.713251113891602, Validation Accuracy: 31.18%\n",
            "Epoch 40, Training Loss: 12.709729194641113, Training Accuracy: 31.53%, Validation Loss: 12.66706657409668, Validation Accuracy: 31.39%\n",
            "Epoch 41, Training Loss: 12.663552284240723, Training Accuracy: 31.78%, Validation Loss: 12.621064186096191, Validation Accuracy: 31.81%\n",
            "Epoch 42, Training Loss: 12.617559432983398, Training Accuracy: 32.18%, Validation Loss: 12.575248718261719, Validation Accuracy: 30.77%\n",
            "Epoch 43, Training Loss: 12.571752548217773, Training Accuracy: 31.13%, Validation Loss: 12.52961540222168, Validation Accuracy: 31.49%\n",
            "Epoch 44, Training Loss: 12.526128768920898, Training Accuracy: 31.97%, Validation Loss: 12.48416519165039, Validation Accuracy: 33.59%\n",
            "Epoch 45, Training Loss: 12.480687141418457, Training Accuracy: 34.55%, Validation Loss: 12.438896179199219, Validation Accuracy: 33.28%\n",
            "Epoch 46, Training Loss: 12.435425758361816, Training Accuracy: 34.33%, Validation Loss: 12.39380931854248, Validation Accuracy: 32.92%\n",
            "Epoch 47, Training Loss: 12.390348434448242, Training Accuracy: 34.00%, Validation Loss: 12.348901748657227, Validation Accuracy: 33.93%\n",
            "Epoch 48, Training Loss: 12.345450401306152, Training Accuracy: 34.63%, Validation Loss: 12.30417537689209, Validation Accuracy: 34.12%\n",
            "Epoch 49, Training Loss: 12.300731658935547, Training Accuracy: 34.93%, Validation Loss: 12.259627342224121, Validation Accuracy: 34.98%\n",
            "Epoch 50, Training Loss: 12.256193161010742, Training Accuracy: 35.82%, Validation Loss: 12.215258598327637, Validation Accuracy: 36.62%\n",
            "Epoch 51, Training Loss: 12.211833000183105, Training Accuracy: 37.61%, Validation Loss: 12.171066284179688, Validation Accuracy: 36.60%\n",
            "Epoch 52, Training Loss: 12.16765022277832, Training Accuracy: 37.73%, Validation Loss: 12.127052307128906, Validation Accuracy: 37.89%\n",
            "Epoch 53, Training Loss: 12.123642921447754, Training Accuracy: 39.11%, Validation Loss: 12.08321475982666, Validation Accuracy: 38.80%\n",
            "Epoch 54, Training Loss: 12.079813957214355, Training Accuracy: 39.99%, Validation Loss: 12.039549827575684, Validation Accuracy: 39.00%\n",
            "Epoch 55, Training Loss: 12.036158561706543, Training Accuracy: 40.21%, Validation Loss: 11.996060371398926, Validation Accuracy: 39.74%\n",
            "Epoch 56, Training Loss: 11.99267864227295, Training Accuracy: 40.75%, Validation Loss: 11.95274829864502, Validation Accuracy: 39.68%\n",
            "Epoch 57, Training Loss: 11.949373245239258, Training Accuracy: 40.72%, Validation Loss: 11.90960693359375, Validation Accuracy: 41.54%\n",
            "Epoch 58, Training Loss: 11.906240463256836, Training Accuracy: 42.92%, Validation Loss: 11.86663818359375, Validation Accuracy: 42.28%\n",
            "Epoch 59, Training Loss: 11.863282203674316, Training Accuracy: 43.67%, Validation Loss: 11.823841094970703, Validation Accuracy: 42.90%\n",
            "Epoch 60, Training Loss: 11.820493698120117, Training Accuracy: 44.18%, Validation Loss: 11.78121566772461, Validation Accuracy: 43.11%\n",
            "Epoch 61, Training Loss: 11.777878761291504, Training Accuracy: 44.41%, Validation Loss: 11.738762855529785, Validation Accuracy: 43.36%\n",
            "Epoch 62, Training Loss: 11.735431671142578, Training Accuracy: 44.78%, Validation Loss: 11.696478843688965, Validation Accuracy: 45.29%\n",
            "Epoch 63, Training Loss: 11.693157196044922, Training Accuracy: 46.66%, Validation Loss: 11.654363632202148, Validation Accuracy: 45.82%\n",
            "Epoch 64, Training Loss: 11.651049613952637, Training Accuracy: 46.99%, Validation Loss: 11.612417221069336, Validation Accuracy: 46.67%\n",
            "Epoch 65, Training Loss: 11.609111785888672, Training Accuracy: 48.01%, Validation Loss: 11.570638656616211, Validation Accuracy: 47.20%\n",
            "Epoch 66, Training Loss: 11.567341804504395, Training Accuracy: 48.44%, Validation Loss: 11.529026985168457, Validation Accuracy: 51.15%\n",
            "Epoch 67, Training Loss: 11.525738716125488, Training Accuracy: 52.60%, Validation Loss: 11.48758316040039, Validation Accuracy: 52.52%\n",
            "Epoch 68, Training Loss: 11.48430347442627, Training Accuracy: 54.21%, Validation Loss: 11.446304321289062, Validation Accuracy: 53.99%\n",
            "Epoch 69, Training Loss: 11.443032264709473, Training Accuracy: 55.80%, Validation Loss: 11.405190467834473, Validation Accuracy: 56.03%\n",
            "Epoch 70, Training Loss: 11.40192699432373, Training Accuracy: 57.60%, Validation Loss: 11.364241600036621, Validation Accuracy: 55.02%\n",
            "Epoch 71, Training Loss: 11.360986709594727, Training Accuracy: 56.81%, Validation Loss: 11.323455810546875, Validation Accuracy: 56.49%\n",
            "Epoch 72, Training Loss: 11.320210456848145, Training Accuracy: 58.21%, Validation Loss: 11.28283405303955, Validation Accuracy: 57.19%\n",
            "Epoch 73, Training Loss: 11.279596328735352, Training Accuracy: 58.70%, Validation Loss: 11.242374420166016, Validation Accuracy: 57.12%\n",
            "Epoch 74, Training Loss: 11.23914623260498, Training Accuracy: 58.51%, Validation Loss: 11.202075958251953, Validation Accuracy: 55.24%\n",
            "Epoch 75, Training Loss: 11.198857307434082, Training Accuracy: 56.91%, Validation Loss: 11.161940574645996, Validation Accuracy: 56.62%\n",
            "Epoch 76, Training Loss: 11.158729553222656, Training Accuracy: 58.17%, Validation Loss: 11.121964454650879, Validation Accuracy: 55.52%\n",
            "Epoch 77, Training Loss: 11.118762016296387, Training Accuracy: 56.64%, Validation Loss: 11.082149505615234, Validation Accuracy: 57.80%\n",
            "Epoch 78, Training Loss: 11.078954696655273, Training Accuracy: 58.95%, Validation Loss: 11.042491912841797, Validation Accuracy: 59.06%\n",
            "Epoch 79, Training Loss: 11.039306640625, Training Accuracy: 60.22%, Validation Loss: 11.002996444702148, Validation Accuracy: 59.71%\n",
            "Epoch 80, Training Loss: 10.99981689453125, Training Accuracy: 60.62%, Validation Loss: 10.963656425476074, Validation Accuracy: 60.29%\n",
            "Epoch 81, Training Loss: 10.960485458374023, Training Accuracy: 61.35%, Validation Loss: 10.924473762512207, Validation Accuracy: 62.82%\n",
            "Epoch 82, Training Loss: 10.921313285827637, Training Accuracy: 63.93%, Validation Loss: 10.88544750213623, Validation Accuracy: 62.83%\n",
            "Epoch 83, Training Loss: 10.882295608520508, Training Accuracy: 63.85%, Validation Loss: 10.846579551696777, Validation Accuracy: 62.38%\n",
            "Epoch 84, Training Loss: 10.843435287475586, Training Accuracy: 63.11%, Validation Loss: 10.807866096496582, Validation Accuracy: 64.59%\n",
            "Epoch 85, Training Loss: 10.804728507995605, Training Accuracy: 65.11%, Validation Loss: 10.769308090209961, Validation Accuracy: 65.30%\n",
            "Epoch 86, Training Loss: 10.766179084777832, Training Accuracy: 65.87%, Validation Loss: 10.730902671813965, Validation Accuracy: 65.09%\n",
            "Epoch 87, Training Loss: 10.727782249450684, Training Accuracy: 65.42%, Validation Loss: 10.692651748657227, Validation Accuracy: 60.40%\n",
            "Epoch 88, Training Loss: 10.689538955688477, Training Accuracy: 60.33%, Validation Loss: 10.65455436706543, Validation Accuracy: 61.41%\n",
            "Epoch 89, Training Loss: 10.651451110839844, Training Accuracy: 61.22%, Validation Loss: 10.616610527038574, Validation Accuracy: 61.64%\n",
            "Epoch 90, Training Loss: 10.613513946533203, Training Accuracy: 61.34%, Validation Loss: 10.578815460205078, Validation Accuracy: 61.20%\n",
            "Epoch 91, Training Loss: 10.575727462768555, Training Accuracy: 61.06%, Validation Loss: 10.541172981262207, Validation Accuracy: 63.51%\n",
            "Epoch 92, Training Loss: 10.538094520568848, Training Accuracy: 63.41%, Validation Loss: 10.503682136535645, Validation Accuracy: 65.63%\n",
            "Epoch 93, Training Loss: 10.5006103515625, Training Accuracy: 66.01%, Validation Loss: 10.466340065002441, Validation Accuracy: 66.44%\n",
            "Epoch 94, Training Loss: 10.463277816772461, Training Accuracy: 66.82%, Validation Loss: 10.42914867401123, Validation Accuracy: 66.25%\n",
            "Epoch 95, Training Loss: 10.426094055175781, Training Accuracy: 66.60%, Validation Loss: 10.392105102539062, Validation Accuracy: 66.69%\n",
            "Epoch 96, Training Loss: 10.389059066772461, Training Accuracy: 67.15%, Validation Loss: 10.355209350585938, Validation Accuracy: 67.42%\n",
            "Epoch 97, Training Loss: 10.352171897888184, Training Accuracy: 67.94%, Validation Loss: 10.318462371826172, Validation Accuracy: 66.79%\n",
            "Epoch 98, Training Loss: 10.315433502197266, Training Accuracy: 67.47%, Validation Loss: 10.281862258911133, Validation Accuracy: 70.80%\n",
            "Epoch 99, Training Loss: 10.278840065002441, Training Accuracy: 71.36%, Validation Loss: 10.245406150817871, Validation Accuracy: 72.37%\n",
            "Epoch 100, Training Loss: 10.24239444732666, Training Accuracy: 72.66%, Validation Loss: 10.209099769592285, Validation Accuracy: 75.52%\n"
          ]
        }
      ],
      "source": [
        "from sklearn.preprocessing import StandardScaler\n",
        "import torch\n",
        "import torch.nn as nn\n",
        "import torch.optim as optim\n",
        "\n",
        "# Scaling features\n",
        "scaler = StandardScaler()\n",
        "X_train_lr_scaled = scaler.fit_transform(X_train_lr)\n",
        "X_val_ratings_lr_scaled = scaler.transform(X_val_ratings_lr)\n",
        "\n",
        "# Convert to PyTorch tensors for training data\n",
        "x_tensor = torch.tensor(X_train_lr_scaled, dtype=torch.float32)\n",
        "y_tensor = torch.tensor(y_train_ratings.values, dtype=torch.float32).view(-1, 1)\n",
        "\n",
        "# Convert to PyTorch tensors for validation data\n",
        "x_val_ratings_tensor = torch.tensor(X_val_ratings_lr_scaled, dtype=torch.float32)\n",
        "y_val_ratings_tensor = torch.tensor(y_val_ratings_lr.values, dtype=torch.float32).view(-1, 1)\n",
        "\n",
        "# optimizer_model1 = optim.Adam(model1.parameters(), lr=0.001)\n",
        "\n",
        "# Linear Regression Model in PyTorch\n",
        "class LinearRegressionModel(nn.Module):\n",
        "    def __init__(self):\n",
        "        super(LinearRegressionModel, self).__init__()  # Initialize the base class\n",
        "        self.linear = nn.Linear(7, 1)\n",
        "\n",
        "    def forward(self, x):\n",
        "        x = self.linear(x)\n",
        "        return x\n",
        "\n",
        "model1 = LinearRegressionModel()\n",
        "\n",
        "# Loss Function and Optimizer with adjusted learning rate\n",
        "criterion = nn.MSELoss()\n",
        "optimizer_model1 = optim.SGD(model1.parameters(), lr=0.001, weight_decay=0.00001, momentum=0.9, nesterov=True)\n",
        "\n",
        "# Define a threshold for accuracy (e.g., 10%)\n",
        "accuracy_threshold = 0.15\n",
        "\n",
        "# Initialize lists to store metrics\n",
        "train_losses, val_losses, train_mse_list, val_mse_list, train_accuracy_list, val_accuracy_list = [], [], [], [], [], []\n",
        "\n",
        "# Training loop for model1\n",
        "for epoch in range(100):\n",
        "    model1.train()\n",
        "    # Forward pass\n",
        "    pred_y_train = model1(x_tensor.clone())\n",
        "    train_loss = criterion(pred_y_train, y_tensor)\n",
        "\n",
        "    # Calculate training accuracy\n",
        "    train_accuracy = ((torch.abs(pred_y_train - y_tensor) / y_tensor) < accuracy_threshold).float().mean().item()\n",
        "\n",
        "    # Backward pass and optimization\n",
        "    optimizer_model1.zero_grad()\n",
        "    train_loss.backward()\n",
        "    optimizer_model1.step()\n",
        "\n",
        "    model1.eval()\n",
        "    # Validation\n",
        "    with torch.no_grad():\n",
        "        pred_y_val = model1(x_val_ratings_tensor.clone())\n",
        "        val_loss = criterion(pred_y_val, y_val_ratings_tensor)\n",
        "\n",
        "        # Calculate validation accuracy\n",
        "        val_accuracy = ((torch.abs(pred_y_val - y_val_ratings_tensor) / y_val_ratings_tensor) < accuracy_threshold).float().mean().item()\n",
        "\n",
        "    # Update lists to store metrics\n",
        "    train_losses.append(train_loss.item())\n",
        "    val_losses.append(val_loss.item())\n",
        "    train_accuracy_list.append(train_accuracy)\n",
        "    val_accuracy_list.append(val_accuracy)\n",
        "\n",
        "    # Print metrics\n",
        "    print(f'Epoch {epoch + 1}, Training Loss: {train_loss.item()}, Training Accuracy: {train_accuracy * 100:.2f}%, Validation Loss: {val_loss.item()}, Validation Accuracy: {val_accuracy * 100:.2f}%')\n"
      ]
    },
    {
      "cell_type": "code",
      "execution_count": null,
      "metadata": {
        "execution": {
          "iopub.execute_input": "2023-12-07T15:53:32.871469Z",
          "iopub.status.busy": "2023-12-07T15:53:32.871090Z",
          "iopub.status.idle": "2023-12-07T15:53:33.354890Z",
          "shell.execute_reply": "2023-12-07T15:53:33.354073Z",
          "shell.execute_reply.started": "2023-12-07T15:53:32.871441Z"
        },
        "id": "sHP3VtigL7H3",
        "outputId": "b82a70f1-ef28-4c05-e608-25818191e37e",
        "trusted": true
      },
      "outputs": [
        {
          "data": {
            "image/png": "[encoded data removed]",
            "text/plain": [
              "<Figure size 1200x500 with 2 Axes>"
            ]
          },
          "metadata": {},
          "output_type": "display_data"
        }
      ],
      "source": [
        "# Plotting\n",
        "epochs = range(1, 101)\n",
        "plt.figure(figsize=(12, 5))\n",
        "\n",
        "# Plot for losses\n",
        "plt.subplot(1, 2, 1)\n",
        "plt.plot(epochs, train_losses, label='Training Loss')\n",
        "plt.plot(epochs, val_losses, label='Validation Loss')\n",
        "plt.title('Training and Validation Loss')\n",
        "plt.xlabel('Epochs')\n",
        "plt.ylabel('Loss')\n",
        "plt.legend()\n",
        "\n",
        "# Plot for Accuracy\n",
        "plt.subplot(1, 2, 2)\n",
        "plt.plot(epochs, train_accuracy_list, label='Training Accuracy')\n",
        "plt.plot(epochs, val_accuracy_list, label='Validation Accuracy')\n",
        "plt.title('Training and Validation Accuracy')\n",
        "plt.xlabel('Epochs')\n",
        "plt.ylabel('Accuracy')\n",
        "plt.legend()\n",
        "\n",
        "plt.show()"
      ]
    },
    {
      "cell_type": "code",
      "execution_count": null,
      "metadata": {
        "execution": {
          "iopub.execute_input": "2023-12-07T16:06:33.569874Z",
          "iopub.status.busy": "2023-12-07T16:06:33.569031Z",
          "iopub.status.idle": "2023-12-07T16:06:58.314280Z",
          "shell.execute_reply": "2023-12-07T16:06:58.312934Z",
          "shell.execute_reply.started": "2023-12-07T16:06:33.569839Z"
        },
        "id": "HmvJsasUL7H3",
        "outputId": "99235eed-7d49-4b6d-9559-01cfa03a1376",
        "trusted": true
      },
      "outputs": [
        {
          "name": "stderr",
          "output_type": "stream",
          "text": [
            "/opt/conda/lib/python3.10/site-packages/sklearn/utils/validation.py:767: FutureWarning: is_sparse is deprecated and will be removed in a future version. Check `isinstance(dtype, pd.SparseDtype)` instead.\n",
            "  if not hasattr(array, \"sparse\") and array.dtypes.apply(is_sparse).any():\n",
            "/opt/conda/lib/python3.10/site-packages/sklearn/utils/validation.py:605: FutureWarning: is_sparse is deprecated and will be removed in a future version. Check `isinstance(dtype, pd.SparseDtype)` instead.\n",
            "  if is_sparse(pd_dtype):\n",
            "/opt/conda/lib/python3.10/site-packages/sklearn/utils/validation.py:614: FutureWarning: is_sparse is deprecated and will be removed in a future version. Check `isinstance(dtype, pd.SparseDtype)` instead.\n",
            "  if is_sparse(pd_dtype) or not is_extension_array_dtype(pd_dtype):\n",
            "/opt/conda/lib/python3.10/site-packages/sklearn/utils/validation.py:767: FutureWarning: is_sparse is deprecated and will be removed in a future version. Check `isinstance(dtype, pd.SparseDtype)` instead.\n",
            "  if not hasattr(array, \"sparse\") and array.dtypes.apply(is_sparse).any():\n",
            "/opt/conda/lib/python3.10/site-packages/sklearn/utils/validation.py:605: FutureWarning: is_sparse is deprecated and will be removed in a future version. Check `isinstance(dtype, pd.SparseDtype)` instead.\n",
            "  if is_sparse(pd_dtype):\n",
            "/opt/conda/lib/python3.10/site-packages/sklearn/utils/validation.py:614: FutureWarning: is_sparse is deprecated and will be removed in a future version. Check `isinstance(dtype, pd.SparseDtype)` instead.\n",
            "  if is_sparse(pd_dtype) or not is_extension_array_dtype(pd_dtype):\n",
            "/opt/conda/lib/python3.10/site-packages/sklearn/utils/validation.py:767: FutureWarning: is_sparse is deprecated and will be removed in a future version. Check `isinstance(dtype, pd.SparseDtype)` instead.\n",
            "  if not hasattr(array, \"sparse\") and array.dtypes.apply(is_sparse).any():\n",
            "/opt/conda/lib/python3.10/site-packages/sklearn/utils/validation.py:605: FutureWarning: is_sparse is deprecated and will be removed in a future version. Check `isinstance(dtype, pd.SparseDtype)` instead.\n",
            "  if is_sparse(pd_dtype):\n",
            "/opt/conda/lib/python3.10/site-packages/sklearn/utils/validation.py:614: FutureWarning: is_sparse is deprecated and will be removed in a future version. Check `isinstance(dtype, pd.SparseDtype)` instead.\n",
            "  if is_sparse(pd_dtype) or not is_extension_array_dtype(pd_dtype):\n"
          ]
        },
        {
          "name": "stdout",
          "output_type": "stream",
          "text": [
            "Epoch 1, Popularity Training Loss: 165.93374633789062, Training R2: -2.5458190390711373, Validation Loss: 164.77279663085938, Validation R2: -2.572376256004347, \n",
            "Epoch 2, Popularity Training Loss: 165.4060516357422, Training R2: -2.534542560584928, Validation Loss: 164.24685668945312, Validation R2: -2.5609741899392575, \n",
            "Epoch 3, Popularity Training Loss: 164.88043212890625, Training R2: -2.5233107719162335, Validation Loss: 163.7230224609375, Validation R2: -2.549617322952083, \n",
            "Epoch 4, Popularity Training Loss: 164.35690307617188, Training R2: -2.5121234996075104, Validation Loss: 163.2012939453125, Validation R2: -2.53830558014264, \n",
            "Epoch 5, Popularity Training Loss: 163.83544921875, Training R2: -2.5009806698604753, Validation Loss: 162.68161010742188, Validation R2: -2.5270387487431316, \n",
            "Epoch 6, Popularity Training Loss: 163.31605529785156, Training R2: -2.4898820756375697, Validation Loss: 162.16400146484375, Validation R2: -2.515816575725466, \n",
            "Epoch 7, Popularity Training Loss: 162.79873657226562, Training R2: -2.47882746529397, Validation Loss: 161.64846801757812, Validation R2: -2.5046390692215503, \n",
            "Epoch 8, Popularity Training Loss: 162.28346252441406, Training R2: -2.467816850656023, Validation Loss: 161.1349334716797, Validation R2: -2.493505642493924, \n",
            "Epoch 9, Popularity Training Loss: 161.77024841308594, Training R2: -2.456849647343796, Validation Loss: 160.62344360351562, Validation R2: -2.48241656233891, \n",
            "Epoch 10, Popularity Training Loss: 161.25904846191406, Training R2: -2.4459261231484857, Validation Loss: 160.11402893066406, Validation R2: -2.4713714190661933, \n",
            "Epoch 11, Popularity Training Loss: 160.74990844726562, Training R2: -2.435045872816804, Validation Loss: 159.60659790039062, Validation R2: -2.460370218473402, \n",
            "Epoch 12, Popularity Training Loss: 160.2427520751953, Training R2: -2.4242089017250295, Validation Loss: 159.10118103027344, Validation R2: -2.4494126134737177, \n",
            "Epoch 13, Popularity Training Loss: 159.7376251220703, Training R2: -2.413414869864104, Validation Loss: 158.5977783203125, Validation R2: -2.4384984340323568, \n",
            "Epoch 14, Popularity Training Loss: 159.2344970703125, Training R2: -2.4026636063425024, Validation Loss: 158.0963592529297, Validation R2: -2.4276275672593655, \n",
            "Epoch 15, Popularity Training Loss: 158.73338317871094, Training R2: -2.391955004882796, Validation Loss: 157.59693908691406, Validation R2: -2.4167998183683284, \n",
            "Epoch 16, Popularity Training Loss: 158.23422241210938, Training R2: -2.381288868693162, Validation Loss: 157.09951782226562, Validation R2: -2.40601517850642, \n",
            "Epoch 17, Popularity Training Loss: 157.737060546875, Training R2: -2.370665193426876, Validation Loss: 156.6040496826172, Validation R2: -2.3952731321055927, \n",
            "Epoch 18, Popularity Training Loss: 157.24188232421875, Training R2: -2.360083467587177, Validation Loss: 156.1105499267578, Validation R2: -2.384573749059546, \n",
            "Epoch 19, Popularity Training Loss: 156.7486572265625, Training R2: -2.349543762720977, Validation Loss: 155.6190185546875, Validation R2: -2.373916861301573, \n",
            "Epoch 20, Popularity Training Loss: 156.2573699951172, Training R2: -2.3390459124468035, Validation Loss: 155.12942504882812, Validation R2: -2.363302313015876, \n",
            "Epoch 21, Popularity Training Loss: 155.76806640625, Training R2: -2.3285897622520335, Validation Loss: 154.6417694091797, Validation R2: -2.352729826702175, \n",
            "Epoch 22, Popularity Training Loss: 155.2806854248047, Training R2: -2.3181750382182273, Validation Loss: 154.15606689453125, Validation R2: -2.3421992477124745, \n",
            "Epoch 23, Popularity Training Loss: 154.7952423095703, Training R2: -2.3078015898031796, Validation Loss: 153.67227172851562, Validation R2: -2.3317105278158574, \n",
            "Epoch 24, Popularity Training Loss: 154.3117218017578, Training R2: -2.297469373093168, Validation Loss: 153.19039916992188, Validation R2: -2.321263276075505, \n",
            "Epoch 25, Popularity Training Loss: 153.8301239013672, Training R2: -2.2871779945089292, Validation Loss: 152.71044921875, Validation R2: -2.3108575598804566, \n",
            "Epoch 26, Popularity Training Loss: 153.35043334960938, Training R2: -2.2769275288613713, Validation Loss: 152.23239135742188, Validation R2: -2.300493028684969, \n",
            "Epoch 27, Popularity Training Loss: 152.8726348876953, Training R2: -2.2667176253621886, Validation Loss: 151.75625610351562, Validation R2: -2.290169597424449, \n",
            "Epoch 28, Popularity Training Loss: 152.396728515625, Training R2: -2.256548202650736, Validation Loss: 151.28196716308594, Validation R2: -2.2798871653894177, \n",
            "Epoch 29, Popularity Training Loss: 151.9227294921875, Training R2: -2.2464191591133926, Validation Loss: 150.8095703125, Validation R2: -2.269645529938462, \n",
            "Epoch 30, Popularity Training Loss: 151.4506072998047, Training R2: -2.236330299240744, Validation Loss: 150.3390655517578, Validation R2: -2.2594444724254537, \n",
            "Epoch 31, Popularity Training Loss: 150.98033142089844, Training R2: -2.2262814060624865, Validation Loss: 149.87042236328125, Validation R2: -2.2492839717564905, \n",
            "Epoch 32, Popularity Training Loss: 150.51194763183594, Training R2: -2.216272456611022, Validation Loss: 149.40362548828125, Validation R2: -2.2391637270327993, \n",
            "Epoch 33, Popularity Training Loss: 150.04542541503906, Training R2: -2.2063031571321483, Validation Loss: 148.93870544433594, Validation R2: -2.2290836641784884, \n",
            "Epoch 34, Popularity Training Loss: 149.58071899414062, Training R2: -2.1963734316558767, Validation Loss: 148.47560119628906, Validation R2: -2.2190434074242296, \n",
            "Epoch 35, Popularity Training Loss: 149.1178741455078, Training R2: -2.1864829164100565, Validation Loss: 148.01434326171875, Validation R2: -2.2090430785297857, \n",
            "Epoch 36, Popularity Training Loss: 148.65687561035156, Training R2: -2.1766317236501824, Validation Loss: 147.55490112304688, Validation R2: -2.1990824253042422, \n",
            "Epoch 37, Popularity Training Loss: 148.19769287109375, Training R2: -2.1668196109864866, Validation Loss: 147.09732055664062, Validation R2: -2.189161235045984, \n",
            "Epoch 38, Popularity Training Loss: 147.7403564453125, Training R2: -2.1570463655881547, Validation Loss: 146.6415252685547, Validation R2: -2.1792793942927613, \n",
            "Epoch 39, Popularity Training Loss: 147.28480529785156, Training R2: -2.14731187492781, Validation Loss: 146.18753051757812, Validation R2: -2.16943673935171, \n",
            "Epoch 40, Popularity Training Loss: 146.83106994628906, Training R2: -2.137615981216664, Validation Loss: 145.73536682128906, Validation R2: -2.1596330860887476, \n",
            "Epoch 41, Popularity Training Loss: 146.37911987304688, Training R2: -2.1279585000268115, Validation Loss: 145.2849578857422, Validation R2: -2.149868272166057, \n",
            "Epoch 42, Popularity Training Loss: 145.92897033691406, Training R2: -2.1183392718180047, Validation Loss: 144.8363800048828, Validation R2: -2.140142275687749, \n",
            "Epoch 43, Popularity Training Loss: 145.48060607910156, Training R2: -2.1087582816162938, Validation Loss: 144.3895263671875, Validation R2: -2.130454781061575, \n",
            "Epoch 44, Popularity Training Loss: 145.03402709960938, Training R2: -2.0992152083009574, Validation Loss: 143.94447326660156, Validation R2: -2.1208057125218716, \n",
            "Epoch 45, Popularity Training Loss: 144.58920288085938, Training R2: -2.0897099808759627, Validation Loss: 143.5011749267578, Validation R2: -2.1111949221277655, \n",
            "Epoch 46, Popularity Training Loss: 144.14614868164062, Training R2: -2.08024245942622, Validation Loss: 143.0596466064453, Validation R2: -2.1016222027469365, \n",
            "Epoch 47, Popularity Training Loss: 143.70486450195312, Training R2: -2.070812431794302, Validation Loss: 142.619873046875, Validation R2: -2.092087384255854, \n",
            "Epoch 48, Popularity Training Loss: 143.26531982421875, Training R2: -2.0614197323648478, Validation Loss: 142.18182373046875, Validation R2: -2.0825903960990884, \n",
            "Epoch 49, Popularity Training Loss: 142.82749938964844, Training R2: -2.052064297839093, Validation Loss: 141.7455291748047, Validation R2: -2.0731311723910277, \n",
            "Epoch 50, Popularity Training Loss: 142.3914337158203, Training R2: -2.042746056569047, Validation Loss: 141.31094360351562, Validation R2: -2.06370941509141, \n",
            "Epoch 51, Popularity Training Loss: 141.9571075439453, Training R2: -2.033464718992693, Validation Loss: 140.8780975341797, Validation R2: -2.0543249587685506, \n",
            "Epoch 52, Popularity Training Loss: 141.52447509765625, Training R2: -2.0242201163965827, Validation Loss: 140.4469757080078, Validation R2: -2.0449777081762774, \n",
            "Epoch 53, Popularity Training Loss: 141.09356689453125, Training R2: -2.015012163988857, Validation Loss: 140.01754760742188, Validation R2: -2.0356674198859124, \n",
            "Epoch 54, Popularity Training Loss: 140.66436767578125, Training R2: -2.0058406114741807, Validation Loss: 139.58981323242188, Validation R2: -2.026394066681815, \n",
            "Epoch 55, Popularity Training Loss: 140.2368621826172, Training R2: -1.9967054408856315, Validation Loss: 139.16378784179688, Validation R2: -2.017157480312668, \n",
            "Epoch 56, Popularity Training Loss: 139.81106567382812, Training R2: -1.9876064819277288, Validation Loss: 138.73944091796875, Validation R2: -2.0079574526764286, \n",
            "Epoch 57, Popularity Training Loss: 139.38694763183594, Training R2: -1.978543533502532, Validation Loss: 138.31678771972656, Validation R2: -1.9987939673658786, \n",
            "Epoch 58, Popularity Training Loss: 138.96450805664062, Training R2: -1.9695165743363776, Validation Loss: 137.89581298828125, Validation R2: -1.9896668483186581, \n",
            "Epoch 59, Popularity Training Loss: 138.5437469482422, Training R2: -1.9605254337265827, Validation Loss: 137.4764862060547, Validation R2: -1.9805757905518107, \n",
            "Epoch 60, Popularity Training Loss: 138.12464904785156, Training R2: -1.9515698119096214, Validation Loss: 137.058837890625, Validation R2: -1.9715208796386317, \n",
            "Epoch 61, Popularity Training Loss: 137.7071990966797, Training R2: -1.9426497913547283, Validation Loss: 136.64283752441406, Validation R2: -1.9625018294239052, \n",
            "Epoch 62, Popularity Training Loss: 137.29144287109375, Training R2: -1.9337650925499634, Validation Loss: 136.22850036621094, Validation R2: -1.9535184739786877, \n",
            "Epoch 63, Popularity Training Loss: 136.87730407714844, Training R2: -1.9249155517177488, Validation Loss: 135.8157958984375, Validation R2: -1.9445707592361852, \n",
            "Epoch 64, Popularity Training Loss: 136.46482849121094, Training R2: -1.9161011133512305, Validation Loss: 135.40472412109375, Validation R2: -1.9356585668836628, \n",
            "Epoch 65, Popularity Training Loss: 136.05398559570312, Training R2: -1.907321663882732, Validation Loss: 134.99526977539062, Validation R2: -1.926781596866045, \n",
            "Epoch 66, Popularity Training Loss: 135.64476013183594, Training R2: -1.898576906407874, Validation Loss: 134.5874481201172, Validation R2: -1.9179398329143433, \n",
            "Epoch 67, Popularity Training Loss: 135.23715209960938, Training R2: -1.88986682070981, Validation Loss: 134.18125915527344, Validation R2: -1.9091331047463038, \n",
            "Epoch 68, Popularity Training Loss: 134.83116149902344, Training R2: -1.881191248196584, Validation Loss: 133.7766571044922, Validation R2: -1.9003612636383362, \n",
            "Epoch 69, Popularity Training Loss: 134.42677307128906, Training R2: -1.8725500346928095, Validation Loss: 133.37368774414062, Validation R2: -1.8916242080709686, \n",
            "Epoch 70, Popularity Training Loss: 134.02398681640625, Training R2: -1.8639430859843467, Validation Loss: 132.97227478027344, Validation R2: -1.8829217441467643, \n",
            "Epoch 71, Popularity Training Loss: 133.622802734375, Training R2: -1.8553702035473436, Validation Loss: 132.57247924804688, Validation R2: -1.8742537638183507, \n",
            "Epoch 72, Popularity Training Loss: 133.22320556640625, Training R2: -1.8468312874343176, Validation Loss: 132.17425537109375, Validation R2: -1.8656201810858786, \n",
            "Epoch 73, Popularity Training Loss: 132.8251953125, Training R2: -1.838326250216812, Validation Loss: 131.7776336669922, Validation R2: -1.8570208248567344, \n",
            "Epoch 74, Popularity Training Loss: 132.4287567138672, Training R2: -1.8298549252897605, Validation Loss: 131.38255310058594, Validation R2: -1.848455444799309, \n",
            "Epoch 75, Popularity Training Loss: 132.03390502929688, Training R2: -1.8214170658294382, Validation Loss: 130.9890594482422, Validation R2: -1.83992408126872, \n",
            "Epoch 76, Popularity Training Loss: 131.64060974121094, Training R2: -1.8130127079009668, Validation Loss: 130.5971221923828, Validation R2: -1.831426544173231, \n",
            "Epoch 77, Popularity Training Loss: 131.2488555908203, Training R2: -1.8046416700880679, Validation Loss: 130.2067108154297, Validation R2: -1.8229625344949172, \n",
            "Epoch 78, Popularity Training Loss: 130.85865783691406, Training R2: -1.7963036526222913, Validation Loss: 129.81785583496094, Validation R2: -1.814532156220336, \n",
            "Epoch 79, Popularity Training Loss: 130.4700164794922, Training R2: -1.7879987613536943, Validation Loss: 129.43057250976562, Validation R2: -1.806135149363592, \n",
            "Epoch 80, Popularity Training Loss: 130.08290100097656, Training R2: -1.779726739036275, Validation Loss: 129.0447998046875, Validation R2: -1.7977713859350462, \n",
            "Epoch 81, Popularity Training Loss: 129.69732666015625, Training R2: -1.7714874602341029, Validation Loss: 128.66055297851562, Validation R2: -1.7894408576497178, \n",
            "Epoch 82, Popularity Training Loss: 129.31329345703125, Training R2: -1.7632809130956373, Validation Loss: 128.27783203125, Validation R2: -1.7811432499024833, \n",
            "Epoch 83, Popularity Training Loss: 128.9307861328125, Training R2: -1.7551067951281913, Validation Loss: 127.89663696289062, Validation R2: -1.7728785870965869, \n",
            "Epoch 84, Popularity Training Loss: 128.54977416992188, Training R2: -1.7469651240451465, Validation Loss: 127.51695251464844, Validation R2: -1.7646466156988856, \n",
            "Epoch 85, Popularity Training Loss: 128.17027282714844, Training R2: -1.7388556518296672, Validation Loss: 127.13874816894531, Validation R2: -1.7564471991221824, \n",
            "Epoch 86, Popularity Training Loss: 127.79226684570312, Training R2: -1.7307782459289704, Validation Loss: 126.76206970214844, Validation R2: -1.7482803281104302, \n",
            "Epoch 87, Popularity Training Loss: 127.415771484375, Training R2: -1.7227328960447794, Validation Loss: 126.3868637084961, Validation R2: -1.7401457313828503, \n",
            "Epoch 88, Popularity Training Loss: 127.04075622558594, Training R2: -1.714719332806156, Validation Loss: 126.01314544677734, Validation R2: -1.732043327235198, \n",
            "Epoch 89, Popularity Training Loss: 126.667236328125, Training R2: -1.7067374808662823, Validation Loss: 125.64090728759766, Validation R2: -1.7239731038694974, \n",
            "Epoch 90, Popularity Training Loss: 126.29519653320312, Training R2: -1.6987873228321742, Validation Loss: 125.2701644897461, Validation R2: -1.7159348786044264, \n",
            "Epoch 91, Popularity Training Loss: 125.92463684082031, Training R2: -1.6908686825476456, Validation Loss: 124.90087127685547, Validation R2: -1.707928430968999, \n",
            "Epoch 92, Popularity Training Loss: 125.5555191040039, Training R2: -1.6829813393443338, Validation Loss: 124.53305053710938, Validation R2: -1.6999537677474255, \n",
            "Epoch 93, Popularity Training Loss: 125.18788146972656, Training R2: -1.6751253046425725, Validation Loss: 124.16667175292969, Validation R2: -1.6920105759893285, \n",
            "Epoch 94, Popularity Training Loss: 124.8216781616211, Training R2: -1.6673002671538177, Validation Loss: 123.80175018310547, Validation R2: -1.6840988358747655, \n",
            "Epoch 95, Popularity Training Loss: 124.45694732666016, Training R2: -1.659506208429494, Validation Loss: 123.43827056884766, Validation R2: -1.676218484546327, \n",
            "Epoch 96, Popularity Training Loss: 124.09366607666016, Training R2: -1.651743066558904, Validation Loss: 123.07624053955078, Validation R2: -1.6683693046308345, \n",
            "Epoch 97, Popularity Training Loss: 123.7318115234375, Training R2: -1.644010624479976, Validation Loss: 122.71562957763672, Validation R2: -1.660551270891748, \n",
            "Epoch 98, Popularity Training Loss: 123.37138366699219, Training R2: -1.6363088607462348, Validation Loss: 122.35646057128906, Validation R2: -1.6527641856002244, \n",
            "Epoch 99, Popularity Training Loss: 123.01238250732422, Training R2: -1.6286375820951555, Validation Loss: 121.99870300292969, Validation R2: -1.6450078977200748, \n",
            "Epoch 100, Popularity Training Loss: 122.65482330322266, Training R2: -1.6209966358769998, Validation Loss: 121.64237213134766, Validation R2: -1.6372823199563316, \n"
          ]
        }
      ],
      "source": [
        "# Scaling features for popularity prediction\n",
        "scaler_popularity = StandardScaler()\n",
        "X_train_popularity_scaled = scaler_popularity.fit_transform(X_train_lr)\n",
        "X_val_popularity_lr_scaled = scaler_popularity.transform(X_val_popularity_lr)\n",
        "\n",
        "# Convert to PyTorch tensors\n",
        "x_popularity_tensor = torch.tensor(X_train_popularity_scaled, dtype=torch.float32)\n",
        "\n",
        "# Convert y_train_popularity to numeric, setting errors to 'coerce' which converts non-numeric values to NaN\n",
        "y_train_popularity_numeric = pd.to_numeric(y_train_popularity, errors='coerce')\n",
        "\n",
        "# Handling missing values (if any) in y_train_popularity\n",
        "y_train_popularity_numeric.fillna(y_train_popularity_numeric.mean(), inplace=True)\n",
        "\n",
        "# Convert to PyTorch tensor\n",
        "y_popularity_tensor = torch.tensor(y_train_popularity_numeric.values, dtype=torch.float32).view(-1, 1)\n",
        "\n",
        "# Instantiate a new model for popularity prediction\n",
        "model2 = LinearRegressionModel()\n",
        "\n",
        "# Loss Function and Optimizer for the popularity model\n",
        "criterion_popularity = nn.MSELoss()\n",
        "\n",
        "# optimizer_model1 = optim.Adam(model1.parameters(), lr=0.001).\n",
        "optimizer_popularity = optim.SGD(model2.parameters(), lr=0.001, weight_decay=0.00001)  # Reduced learning rate\n",
        "\n",
        "x_val_popularity_tensor = torch.tensor(X_val_popularity_lr_scaled, dtype=torch.float32)\n",
        "\n",
        "# Convert y_val_popularity_lr to numeric, setting errors to 'coerce' which converts non-numeric values to NaN\n",
        "y_val_popularity_lr_numeric = pd.to_numeric(y_val_popularity_lr, errors='coerce')\n",
        "\n",
        "# Fill NaNs with the mean\n",
        "y_val_popularity_lr_numeric.fillna(y_val_popularity_lr_numeric.mean(), inplace=True)\n",
        "\n",
        "# Convert to PyTorch tensor\n",
        "y_val_popularity_tensor = torch.tensor(y_val_popularity_lr_numeric.values, dtype=torch.float32).view(-1, 1)\n",
        "\n",
        "# Initialize lists to store metrics\n",
        "train_losses, val_losses, train_acc, val_acc = [], [], [], []\n",
        "\n",
        "# Define a threshold for accuracy (e.g., 10%)\n",
        "accuracy_threshold = 0.15\n",
        "\n",
        "# Training loop for the popularity model\n",
        "for epoch in range(100):\n",
        "    model2.train()  # Set model2 to training mode\n",
        "\n",
        "    # Forward pass and loss calculation for the training data\n",
        "    pred_popularity_train = model2(x_popularity_tensor.clone())  # Cloning the tensor\n",
        "    train_loss_popularity = criterion_popularity(pred_popularity_train, y_popularity_tensor)\n",
        "\n",
        "    # Calculate training accuracy\n",
        "    train_accuracy = ((torch.abs(pred_popularity_train - y_popularity_tensor) / y_popularity_tensor) < accuracy_threshold).float().mean().item()\n",
        "\n",
        "    # Backward pass and optimization\n",
        "    optimizer_popularity.zero_grad()\n",
        "    train_loss_popularity.backward()\n",
        "    optimizer_popularity.step()\n",
        "\n",
        "    model2.eval()  # Set model2 to evaluation mode\n",
        "    # Forward pass for validation data\n",
        "    with torch.no_grad():\n",
        "        pred_popularity_val = model2(x_val_popularity_tensor.clone())  # Cloning the tensor for validation\n",
        "        val_loss_popularity = criterion_popularity(pred_popularity_val, y_val_popularity_tensor)\n",
        "\n",
        "        # Calculate validation accuracy\n",
        "        val_accuracy = ((torch.abs(pred_popularity_val - y_val_popularity_tensor) / y_val_popularity_tensor) < accuracy_threshold).float().mean().item()\n",
        "\n",
        "    # Calculate training and validation metrics for popularity\n",
        "    #train_mse_popularity = mean_squared_error(y_popularity_tensor.detach().numpy(), pred_popularity_train.detach().numpy())\n",
        "    train_r2_popularity = r2_score(y_popularity_tensor.detach().numpy(), pred_popularity_train.detach().numpy())\n",
        "    #val_mse_popularity = mean_squared_error(y_val_popularity_tensor.detach().numpy(), pred_popularity_val.detach().numpy())\n",
        "    val_r2_popularity = r2_score(y_val_popularity_tensor.detach().numpy(), pred_popularity_val.detach().numpy())\n",
        "\n",
        "    # Print training and validation metrics\n",
        "    print(f'Epoch {epoch + 1}, '\n",
        "          f'Popularity Training Loss: {train_loss_popularity.item()}, '\n",
        "          f'Training R2: {train_r2_popularity}, '\n",
        "          f'Validation Loss: {val_loss_popularity.item()}, '\n",
        "          f'Validation R2: {val_r2_popularity}, ')\n",
        "\n",
        "    # Append metrics to lists\n",
        "    train_losses.append(train_loss_popularity.item())\n",
        "    val_losses.append(val_loss_popularity.item())\n",
        "    train_acc.append(train_r2_popularity)\n",
        "    val_acc.append(val_r2_popularity)\n"
      ]
    },
    {
      "cell_type": "code",
      "execution_count": null,
      "metadata": {
        "execution": {
          "iopub.execute_input": "2023-12-07T16:07:06.832939Z",
          "iopub.status.busy": "2023-12-07T16:07:06.832578Z",
          "iopub.status.idle": "2023-12-07T16:07:07.251457Z",
          "shell.execute_reply": "2023-12-07T16:07:07.250489Z",
          "shell.execute_reply.started": "2023-12-07T16:07:06.832910Z"
        },
        "id": "rupsXMrVL7H4",
        "outputId": "40f53411-296c-4fae-d245-18e62fbe5855",
        "trusted": true
      },
      "outputs": [
        {
          "data": {
            "image/png": "[encoded data removed]",
            "text/plain": [
              "<Figure size 1200x500 with 2 Axes>"
            ]
          },
          "metadata": {},
          "output_type": "display_data"
        }
      ],
      "source": [
        "# Plotting\n",
        "epochs = range(1, 101)\n",
        "plt.figure(figsize=(12, 5))\n",
        "\n",
        "# Plot for losses\n",
        "plt.subplot(1, 2, 1)\n",
        "plt.plot(epochs, train_losses, label='Training Loss')\n",
        "plt.plot(epochs, val_losses, label='Validation Loss')\n",
        "plt.title('Training and Validation Loss')\n",
        "plt.xlabel('Epochs')\n",
        "plt.ylabel('Loss')\n",
        "plt.legend()\n",
        "\n",
        "# Plot for R2\n",
        "plt.subplot(1, 2, 2)\n",
        "plt.plot(epochs, train_acc, label='Training R2')\n",
        "plt.plot(epochs, val_acc, label='Validation R2')\n",
        "plt.title('Training and Validation R2')\n",
        "plt.xlabel('Epochs')\n",
        "plt.ylabel('R2')\n",
        "plt.legend()\n",
        "\n",
        "plt.show()"
      ]
    },
    {
      "cell_type": "code",
      "execution_count": null,
      "metadata": {
        "execution": {
          "iopub.execute_input": "2023-12-07T16:07:24.585302Z",
          "iopub.status.busy": "2023-12-07T16:07:24.584464Z",
          "iopub.status.idle": "2023-12-07T16:07:26.917353Z",
          "shell.execute_reply": "2023-12-07T16:07:26.916407Z",
          "shell.execute_reply.started": "2023-12-07T16:07:24.585268Z"
        },
        "id": "2kVEIButL7H4",
        "outputId": "3296c403-d961-44dc-be59-837288f8c327",
        "trusted": true
      },
      "outputs": [
        {
          "name": "stderr",
          "output_type": "stream",
          "text": [
            "/opt/conda/lib/python3.10/site-packages/sklearn/utils/validation.py:767: FutureWarning: is_sparse is deprecated and will be removed in a future version. Check `isinstance(dtype, pd.SparseDtype)` instead.\n",
            "  if not hasattr(array, \"sparse\") and array.dtypes.apply(is_sparse).any():\n",
            "/opt/conda/lib/python3.10/site-packages/sklearn/utils/validation.py:605: FutureWarning: is_sparse is deprecated and will be removed in a future version. Check `isinstance(dtype, pd.SparseDtype)` instead.\n",
            "  if is_sparse(pd_dtype):\n",
            "/opt/conda/lib/python3.10/site-packages/sklearn/utils/validation.py:614: FutureWarning: is_sparse is deprecated and will be removed in a future version. Check `isinstance(dtype, pd.SparseDtype)` instead.\n",
            "  if is_sparse(pd_dtype) or not is_extension_array_dtype(pd_dtype):\n",
            "/opt/conda/lib/python3.10/site-packages/sklearn/utils/validation.py:767: FutureWarning: is_sparse is deprecated and will be removed in a future version. Check `isinstance(dtype, pd.SparseDtype)` instead.\n",
            "  if not hasattr(array, \"sparse\") and array.dtypes.apply(is_sparse).any():\n",
            "/opt/conda/lib/python3.10/site-packages/sklearn/utils/validation.py:605: FutureWarning: is_sparse is deprecated and will be removed in a future version. Check `isinstance(dtype, pd.SparseDtype)` instead.\n",
            "  if is_sparse(pd_dtype):\n",
            "/opt/conda/lib/python3.10/site-packages/sklearn/utils/validation.py:614: FutureWarning: is_sparse is deprecated and will be removed in a future version. Check `isinstance(dtype, pd.SparseDtype)` instead.\n",
            "  if is_sparse(pd_dtype) or not is_extension_array_dtype(pd_dtype):\n"
          ]
        },
        {
          "name": "stdout",
          "output_type": "stream",
          "text": [
            "MSE for Ratings on Test Set: 10.206192279057541\n",
            "MSE for Popularity on Test Set: 122.29364477502021\n"
          ]
        },
        {
          "name": "stderr",
          "output_type": "stream",
          "text": [
            "/opt/conda/lib/python3.10/site-packages/sklearn/utils/validation.py:605: FutureWarning: is_sparse is deprecated and will be removed in a future version. Check `isinstance(dtype, pd.SparseDtype)` instead.\n",
            "  if is_sparse(pd_dtype):\n",
            "/opt/conda/lib/python3.10/site-packages/sklearn/utils/validation.py:614: FutureWarning: is_sparse is deprecated and will be removed in a future version. Check `isinstance(dtype, pd.SparseDtype)` instead.\n",
            "  if is_sparse(pd_dtype) or not is_extension_array_dtype(pd_dtype):\n",
            "/opt/conda/lib/python3.10/site-packages/sklearn/utils/validation.py:605: FutureWarning: is_sparse is deprecated and will be removed in a future version. Check `isinstance(dtype, pd.SparseDtype)` instead.\n",
            "  if is_sparse(pd_dtype):\n",
            "/opt/conda/lib/python3.10/site-packages/sklearn/utils/validation.py:614: FutureWarning: is_sparse is deprecated and will be removed in a future version. Check `isinstance(dtype, pd.SparseDtype)` instead.\n",
            "  if is_sparse(pd_dtype) or not is_extension_array_dtype(pd_dtype):\n"
          ]
        }
      ],
      "source": [
        "# Scaling the test data for ratings and popularity\n",
        "X_test_ratings_scaled = scaler.transform(X_test_ratings_lr)\n",
        "X_test_popularity_scaled = scaler_popularity.transform(X_test_popularity_lr)\n",
        "\n",
        "# Convert the scaled test data to tensors\n",
        "x_test_ratings_tensor = torch.tensor(X_test_ratings_scaled, dtype=torch.float32)\n",
        "x_test_popularity_tensor = torch.tensor(X_test_popularity_scaled, dtype=torch.float32)\n",
        "\n",
        "# Put models in evaluation mode\n",
        "model1.eval()\n",
        "model2.eval()\n",
        "\n",
        "# Make predictions with no gradient calculations\n",
        "with torch.no_grad():\n",
        "    y_test_pred_ratings_tensor = model1(x_test_ratings_tensor)\n",
        "    y_test_pred_popularity_tensor = model2(x_test_popularity_tensor)\n",
        "\n",
        "# Convert predictions to numpy arrays\n",
        "y_test_pred_ratings = y_test_pred_ratings_tensor.view(-1).numpy()\n",
        "y_test_pred_popularity = y_test_pred_popularity_tensor.view(-1).numpy()\n",
        "\n",
        "# Calculate Mean Squared Error for both models\n",
        "mse_ratings_test = mean_squared_error(y_test_ratings_lr, y_test_pred_ratings)\n",
        "mse_popularity_test = mean_squared_error(y_test_popularity_lr, y_test_pred_popularity)\n",
        "\n",
        "print(f'MSE for Ratings on Test Set: {mse_ratings_test}')\n",
        "print(f'MSE for Popularity on Test Set: {mse_popularity_test}')\n"
      ]
    },
    {
      "cell_type": "code",
      "execution_count": null,
      "metadata": {
        "id": "iwHH0IbqL7H4",
        "trusted": true
      },
      "outputs": [],
      "source": []
    },
    {
      "cell_type": "code",
      "execution_count": null,
      "metadata": {
        "execution": {
          "iopub.execute_input": "2023-12-07T16:08:17.480956Z",
          "iopub.status.busy": "2023-12-07T16:08:17.480561Z",
          "iopub.status.idle": "2023-12-07T16:08:44.777036Z",
          "shell.execute_reply": "2023-12-07T16:08:44.776110Z",
          "shell.execute_reply.started": "2023-12-07T16:08:17.480925Z"
        },
        "id": "OReQ7VAlL7H4",
        "trusted": true
      },
      "outputs": [],
      "source": [
        "from ast import literal_eval\n",
        "\n",
        "def parse_cast(cast_str):\n",
        "    try:\n",
        "        # Convert the string representation of the list to an actual list\n",
        "        cast_list = literal_eval(cast_str)\n",
        "        return [(actor['name'], actor['id']) for actor in cast_list]\n",
        "    except (ValueError, SyntaxError) as e:\n",
        "        print(f\"Error parsing string: {e}\")  # Print error for debugging\n",
        "        return []\n",
        "\n",
        "# Apply the function to the 'cast' column\n",
        "credits['parsed_cast'] = credits['cast'].apply(parse_cast)\n",
        "\n",
        "# Efficiently expand the 'parsed_cast' into a list of tuples\n",
        "expanded_cast = []\n",
        "for _, row in credits.iterrows():\n",
        "    for actor in row['parsed_cast']:\n",
        "        expanded_cast.append((actor[0], actor[1], row['id']))\n",
        "\n",
        "expanded_cast_df = pd.DataFrame(expanded_cast, columns=['actor_name', 'actor_id', 'movie_id'])"
      ]
    },
    {
      "cell_type": "code",
      "execution_count": null,
      "metadata": {
        "execution": {
          "iopub.execute_input": "2023-12-07T16:08:44.779106Z",
          "iopub.status.busy": "2023-12-07T16:08:44.778803Z",
          "iopub.status.idle": "2023-12-07T16:08:47.923001Z",
          "shell.execute_reply": "2023-12-07T16:08:47.922234Z",
          "shell.execute_reply.started": "2023-12-07T16:08:44.779080Z"
        },
        "id": "dbaRpeRuL7H4",
        "trusted": true
      },
      "outputs": [],
      "source": [
        "# Sample a subset of the data, e.g., 10% of the data to avoid kernel crashing\n",
        "expanded_cast_df = expanded_cast_df.sample(frac=0.1, random_state=42)\n",
        "sampled_data = merged_data.sample(frac=0.1, random_state=42)\n",
        "new_data = pd.merge(expanded_cast_df, sampled_data, left_on='movie_id', right_on='movieId')"
      ]
    },
    {
      "cell_type": "code",
      "execution_count": null,
      "metadata": {
        "execution": {
          "iopub.execute_input": "2023-12-07T16:08:47.924476Z",
          "iopub.status.busy": "2023-12-07T16:08:47.924216Z",
          "iopub.status.idle": "2023-12-07T16:08:47.938572Z",
          "shell.execute_reply": "2023-12-07T16:08:47.937410Z",
          "shell.execute_reply.started": "2023-12-07T16:08:47.924454Z"
        },
        "id": "OYRgdGKQL7H4",
        "outputId": "87b9d648-73fe-468c-d3bc-d731d1841d7f",
        "trusted": true
      },
      "outputs": [
        {
          "name": "stdout",
          "output_type": "stream",
          "text": [
            "     actor_name  actor_id  movie_id  adult  \\\n",
            "0  Sal Richards   1237372       238  False   \n",
            "1  Sal Richards   1237372       238  False   \n",
            "2  Sal Richards   1237372       238  False   \n",
            "3  Sal Richards   1237372       238  False   \n",
            "4  Sal Richards   1237372       238  False   \n",
            "\n",
            "                               belongs_to_collection   budget  \\\n",
            "0  {'id': 230, 'name': 'The Godfather Collection'...  6000000   \n",
            "1  {'id': 230, 'name': 'The Godfather Collection'...  6000000   \n",
            "2  {'id': 230, 'name': 'The Godfather Collection'...  6000000   \n",
            "3  {'id': 230, 'name': 'The Godfather Collection'...  6000000   \n",
            "4  {'id': 230, 'name': 'The Godfather Collection'...  6000000   \n",
            "\n",
            "                                              genres  \\\n",
            "0  [{'id': 18, 'name': 'Drama'}, {'id': 80, 'name...   \n",
            "1  [{'id': 18, 'name': 'Drama'}, {'id': 80, 'name...   \n",
            "2  [{'id': 18, 'name': 'Drama'}, {'id': 80, 'name...   \n",
            "3  [{'id': 18, 'name': 'Drama'}, {'id': 80, 'name...   \n",
            "4  [{'id': 18, 'name': 'Drama'}, {'id': 80, 'name...   \n",
            "\n",
            "                       homepage     id    imdb_id  ... vote_count  userId  \\\n",
            "0  http://www.thegodfather.com/  238.0  tt0068646  ...     6024.0  122726   \n",
            "1  http://www.thegodfather.com/  238.0  tt0068646  ...     6024.0  181849   \n",
            "2  http://www.thegodfather.com/  238.0  tt0068646  ...     6024.0   69820   \n",
            "3  http://www.thegodfather.com/  238.0  tt0068646  ...     6024.0  166911   \n",
            "4  http://www.thegodfather.com/  238.0  tt0068646  ...     6024.0  267404   \n",
            "\n",
            "  movieId rating  timestamp num_genres num_production_companies release_year  \\\n",
            "0   238.0    4.0  945396675          2                        2         1972   \n",
            "1   238.0    4.0  956355638          2                        2         1972   \n",
            "2   238.0    3.0  832019422          2                        2         1972   \n",
            "3   238.0    4.0  845062482          2                        2         1972   \n",
            "4   238.0    3.0  925995884          2                        2         1972   \n",
            "\n",
            "   release_month  release_day  \n",
            "0              3           14  \n",
            "1              3           14  \n",
            "2              3           14  \n",
            "3              3           14  \n",
            "4              3           14  \n",
            "\n",
            "[5 rows x 36 columns]\n"
          ]
        }
      ],
      "source": [
        "print(new_data.head())"
      ]
    },
    {
      "cell_type": "code",
      "execution_count": null,
      "metadata": {
        "execution": {
          "iopub.execute_input": "2023-12-07T16:08:47.940780Z",
          "iopub.status.busy": "2023-12-07T16:08:47.940451Z",
          "iopub.status.idle": "2023-12-07T16:08:48.904930Z",
          "shell.execute_reply": "2023-12-07T16:08:48.904180Z",
          "shell.execute_reply.started": "2023-12-07T16:08:47.940728Z"
        },
        "id": "geF7cQtu2Cpc",
        "outputId": "238e0df2-5c19-4495-fb7c-d51744d61e38",
        "trusted": true
      },
      "outputs": [
        {
          "name": "stderr",
          "output_type": "stream",
          "text": [
            "/opt/conda/lib/python3.10/site-packages/sklearn/utils/validation.py:767: FutureWarning: is_sparse is deprecated and will be removed in a future version. Check `isinstance(dtype, pd.SparseDtype)` instead.\n",
            "  if not hasattr(array, \"sparse\") and array.dtypes.apply(is_sparse).any():\n",
            "/opt/conda/lib/python3.10/site-packages/sklearn/utils/validation.py:605: FutureWarning: is_sparse is deprecated and will be removed in a future version. Check `isinstance(dtype, pd.SparseDtype)` instead.\n",
            "  if is_sparse(pd_dtype):\n",
            "/opt/conda/lib/python3.10/site-packages/sklearn/utils/validation.py:614: FutureWarning: is_sparse is deprecated and will be removed in a future version. Check `isinstance(dtype, pd.SparseDtype)` instead.\n",
            "  if is_sparse(pd_dtype) or not is_extension_array_dtype(pd_dtype):\n",
            "/opt/conda/lib/python3.10/site-packages/sklearn/utils/validation.py:767: FutureWarning: is_sparse is deprecated and will be removed in a future version. Check `isinstance(dtype, pd.SparseDtype)` instead.\n",
            "  if not hasattr(array, \"sparse\") and array.dtypes.apply(is_sparse).any():\n",
            "/opt/conda/lib/python3.10/site-packages/sklearn/utils/validation.py:605: FutureWarning: is_sparse is deprecated and will be removed in a future version. Check `isinstance(dtype, pd.SparseDtype)` instead.\n",
            "  if is_sparse(pd_dtype):\n",
            "/opt/conda/lib/python3.10/site-packages/sklearn/utils/validation.py:614: FutureWarning: is_sparse is deprecated and will be removed in a future version. Check `isinstance(dtype, pd.SparseDtype)` instead.\n",
            "  if is_sparse(pd_dtype) or not is_extension_array_dtype(pd_dtype):\n"
          ]
        }
      ],
      "source": [
        "# since only the features were scaled for training, the predicted values are in their original scale,\n",
        "# so combining them directly could result in a biased representation where one variable dominates the calculation.\n",
        "from sklearn.preprocessing import StandardScaler\n",
        "\n",
        "# Extract the relevant columns\n",
        "data_to_scale = new_data[['rating', 'popularity']]\n",
        "\n",
        "# Apply standardization\n",
        "scaler = StandardScaler()\n",
        "scaled_data = scaler.fit_transform(data_to_scale)\n",
        "\n",
        "# Add scaled data back to the DataFrame\n",
        "new_data[['scaled_rating', 'scaled_popularity']] = scaled_data\n",
        "\n",
        "# Now calculate actor popularity using scaled values\n",
        "new_data['actor_popularity'] = (0.5 * new_data['scaled_rating'] + 0.5 * new_data['scaled_popularity'] )\n",
        "\n",
        "# Group by actor and aggregate actor popularity\n",
        "actor_popularity = new_data.groupby('actor_id')['actor_popularity'].mean().reset_index()\n",
        "\n",
        "# actor_popularity DataFrame now contains each actor's average popularity score"
      ]
    },
    {
      "cell_type": "code",
      "execution_count": null,
      "metadata": {
        "execution": {
          "iopub.execute_input": "2023-12-07T16:08:48.906316Z",
          "iopub.status.busy": "2023-12-07T16:08:48.906006Z",
          "iopub.status.idle": "2023-12-07T16:08:48.913793Z",
          "shell.execute_reply": "2023-12-07T16:08:48.912911Z",
          "shell.execute_reply.started": "2023-12-07T16:08:48.906291Z"
        },
        "id": "7hyS8sNIL7H4",
        "outputId": "66b83532-b8b4-40c4-a3f3-d6fecda60baa",
        "trusted": true
      },
      "outputs": [
        {
          "name": "stdout",
          "output_type": "stream",
          "text": [
            "      actor_id  actor_popularity\n",
            "0            1         -0.257871\n",
            "1            2          0.082363\n",
            "2            3          0.377616\n",
            "3            4          0.082363\n",
            "4           10          0.361126\n",
            "...        ...               ...\n",
            "4250   1896892         -0.443258\n",
            "4251   1899069         -0.992449\n",
            "4252   1899142         -0.340660\n",
            "4253   1901428         -0.070109\n",
            "4254   1901430         -0.070109\n",
            "\n",
            "[4255 rows x 2 columns]\n"
          ]
        }
      ],
      "source": [
        "print(actor_popularity)"
      ]
    },
    {
      "cell_type": "code",
      "execution_count": null,
      "metadata": {
        "execution": {
          "iopub.execute_input": "2023-12-07T16:08:52.594499Z",
          "iopub.status.busy": "2023-12-07T16:08:52.594118Z",
          "iopub.status.idle": "2023-12-07T16:08:52.713901Z",
          "shell.execute_reply": "2023-12-07T16:08:52.712886Z",
          "shell.execute_reply.started": "2023-12-07T16:08:52.594471Z"
        },
        "id": "cuyzKcro2Cl3",
        "trusted": true
      },
      "outputs": [],
      "source": [
        "# Select the feature and target\n",
        "X_nn = new_data[['actor_popularity']].values\n",
        "y_nn = new_data['revenue'].values\n",
        "\n",
        "# Scaling the feature\n",
        "scaler_nn = StandardScaler()\n",
        "X_scaled_nn = scaler_nn.fit_transform(X_nn)\n",
        "\n",
        "# Splitting the dataset\n",
        "X_train_nn, X_test_nn, y_train_nn, y_test_nn = train_test_split(X_scaled_nn, y_nn, test_size=0.2, random_state=42)\n",
        "\n",
        "# Convert to PyTorch tensors for Neural Network\n",
        "X_train_tensor_nn = torch.tensor(X_train_nn.astype(np.float32))\n",
        "y_train_tensor_nn = torch.tensor(y_train_nn.astype(np.float32))\n",
        "X_test_tensor_nn = torch.tensor(X_test_nn.astype(np.float32))\n",
        "y_test_tensor_nn = torch.tensor(y_test_nn.astype(np.float32))\n",
        "\n",
        "# Create DataLoader for batch processing for Neural Network\n",
        "train_data_nn = TensorDataset(X_train_tensor_nn, y_train_tensor_nn)\n",
        "train_loader_nn = DataLoader(train_data_nn, batch_size=32, shuffle=True)\n"
      ]
    },
    {
      "cell_type": "code",
      "execution_count": null,
      "metadata": {
        "execution": {
          "iopub.execute_input": "2023-12-07T16:09:01.085175Z",
          "iopub.status.busy": "2023-12-07T16:09:01.084790Z",
          "iopub.status.idle": "2023-12-07T16:09:01.093156Z",
          "shell.execute_reply": "2023-12-07T16:09:01.092205Z",
          "shell.execute_reply.started": "2023-12-07T16:09:01.085144Z"
        },
        "id": "9c7lvPE7L7H5",
        "trusted": true
      },
      "outputs": [],
      "source": [
        "import torch.nn as nn\n",
        "\n",
        "class RevenueNet(nn.Module):\n",
        "    def __init__(self):\n",
        "        super(RevenueNet, self).__init__()\n",
        "        self.fc1 = nn.Linear(1, 10)  # 1 input neuron (actor_popularity) and 10 neurons in the first hidden layer\n",
        "        self.fc2 = nn.Linear(10, 10)  # Second hidden layer\n",
        "        self.fc3 = nn.Linear(10, 1)   # Output layer (1 neuron for predicting revenue)\n",
        "\n",
        "    def forward(self, x):\n",
        "        x = torch.relu(self.fc1(x))\n",
        "        x = torch.relu(self.fc2(x))\n",
        "        x = self.fc3(x)  # No activation function in the output layer for regression\n",
        "        return x\n",
        "\n",
        "net = RevenueNet()\n"
      ]
    },
    {
      "cell_type": "code",
      "execution_count": null,
      "metadata": {
        "execution": {
          "iopub.execute_input": "2023-12-07T16:09:05.750936Z",
          "iopub.status.busy": "2023-12-07T16:09:05.750218Z"
        },
        "id": "a6t_ICAtL7H5",
        "outputId": "d3a3ffd1-a70b-4259-bd26-22030b9660db",
        "trusted": true
      },
      "outputs": [
        {
          "name": "stdout",
          "output_type": "stream",
          "text": [
            "Epoch 1, Loss: 1.6509851223825792e+17\n",
            "Epoch 2, Loss: 1.5766520108857773e+17\n",
            "Epoch 3, Loss: 1.3811365430265034e+17\n",
            "Epoch 4, Loss: 1.1638907888077853e+17\n",
            "Epoch 5, Loss: 1.094259767951762e+17\n",
            "Epoch 6, Loss: 1.0905181672793016e+17\n",
            "Epoch 7, Loss: 1.0903585664833061e+17\n",
            "Epoch 8, Loss: 1.0902725242768323e+17\n",
            "Epoch 9, Loss: 1.0902094234560275e+17\n",
            "Epoch 10, Loss: 1.0901814671230944e+17\n",
            "Epoch 11, Loss: 1.0901383012447248e+17\n",
            "Epoch 12, Loss: 1.0901017302035674e+17\n",
            "Epoch 13, Loss: 1.0900786434637707e+17\n",
            "Epoch 14, Loss: 1.0900193989081645e+17\n",
            "Epoch 15, Loss: 1.0899779555209221e+17\n",
            "Epoch 16, Loss: 1.0899003834340862e+17\n",
            "Epoch 17, Loss: 1.0898409728532858e+17\n",
            "Epoch 18, Loss: 1.0897105023209328e+17\n",
            "Epoch 19, Loss: 1.0895910915345438e+17\n"
          ]
        }
      ],
      "source": [
        "import torch.optim as optim\n",
        "\n",
        "criterion_nn = nn.MSELoss()  # Mean Squared Error Loss for regression\n",
        "optimizer_nn = optim.Adam(net.parameters(), lr=0.001)\n",
        "\n",
        "# Neural Network Training loop\n",
        "epoch_losses_nn = []\n",
        "for epoch in range(100):  # Number of epochs\n",
        "    running_loss_nn = 0.0\n",
        "    for inputs_nn, labels_nn in train_loader_nn:\n",
        "        optimizer_nn.zero_grad()\n",
        "        outputs_nn = net(inputs_nn)\n",
        "        loss_nn = criterion_nn(outputs_nn, labels_nn.view(-1, 1))\n",
        "        loss_nn.backward()\n",
        "        optimizer_nn.step()\n",
        "        running_loss_nn += loss_nn.item()\n",
        "\n",
        "    epoch_loss_nn = running_loss_nn / len(train_loader_nn)\n",
        "    epoch_losses_nn.append(epoch_loss_nn)\n",
        "    print(f'Epoch {epoch+1}, Loss: {epoch_loss_nn}')\n"
      ]
    },
    {
      "cell_type": "code",
      "execution_count": null,
      "metadata": {
        "id": "zSmNKYpuL7H5",
        "trusted": true
      },
      "outputs": [],
      "source": [
        "# Evaluate the model's performance on the test set\n",
        "net.eval()\n",
        "with torch.no_grad():\n",
        "    predicted_nn = net(X_test_tensor_nn)\n",
        "    test_loss_nn = criterion_nn(predicted_nn, y_test_tensor_nn.view(-1, 1))\n",
        "    print(f'Test Loss: {test_loss_nn.item()}')"
      ]
    },
    {
      "cell_type": "code",
      "execution_count": null,
      "metadata": {
        "id": "E6pwAP69L7H5",
        "trusted": true
      },
      "outputs": [],
      "source": [
        "# Optionally, plot the training loss over epochs\n",
        "import matplotlib.pyplot as plt\n",
        "\n",
        "plt.plot(range(1, 101), epoch_losses_nn)\n",
        "plt.xlabel('Epoch')\n",
        "plt.ylabel('Mean Squared Error Loss')\n",
        "plt.title('Training Loss Over Epochs')\n",
        "plt.show()"
      ]
    },
    {
      "cell_type": "code",
      "execution_count": null,
      "metadata": {
        "id": "-U-HIbPSL7H5",
        "trusted": true
      },
      "outputs": [],
      "source": [
        "def predict_revenue(input_features, model1, model2, net, scaler):\n",
        "    # Scale input features\n",
        "    #input_features_scaled = scaler.transform(input_features)\n",
        "\n",
        "    # Convert scaled features to tensor\n",
        "    input_features_tensor = torch.tensor(input_features, dtype=torch.float32)\n",
        "\n",
        "    # Set models to evaluation mode\n",
        "    model1.eval()\n",
        "    model2.eval()\n",
        "\n",
        "    # Make predictions with linear regression models\n",
        "    with torch.no_grad():  # Disable gradient computation\n",
        "        predicted_rating = model1(input_features_tensor)\n",
        "        predicted_popularity = model2(input_features_tensor)\n",
        "\n",
        "    # Calculate actor popularity\n",
        "    actor_popularity = (0.5 * predicted_rating + 0.5 * predicted_popularity)\n",
        "\n",
        "    # Predict with neural network\n",
        "    net.eval()  # Set the network to evaluation mode\n",
        "    with torch.no_grad():\n",
        "        revenue_prediction = net(actor_popularity)\n",
        "\n",
        "    return revenue_prediction.numpy().flatten()\n",
        "\n",
        "# Example usage\n",
        "#['vote_average', 'popularity', 'budget', 'num_genres', 'num_production_companies', 'release_year', 'release_month', 'release_day']\n",
        "temp = [1, 1, 1, 1, 1, 1, 1, 1]\n",
        "revenue_prediction = predict_revenue(temp, model1, model2, net, scaler)\n",
        "print(\"your expected revenue is: \", revenue_prediction)\n"
      ]
    },
    {
      "cell_type": "code",
      "execution_count": null,
      "metadata": {
        "execution": {
          "iopub.execute_input": "2023-12-07T13:45:49.471947Z",
          "iopub.status.busy": "2023-12-07T13:45:49.471591Z",
          "iopub.status.idle": "2023-12-07T13:46:07.753484Z",
          "shell.execute_reply": "2023-12-07T13:46:07.752264Z",
          "shell.execute_reply.started": "2023-12-07T13:45:49.471920Z"
        },
        "id": "IrKPCSnmL7H5",
        "outputId": "ddb10e67-330b-48f6-b8f5-4516dff6e8b5",
        "trusted": true
      },
      "outputs": [
        {
          "name": "stdout",
          "output_type": "stream",
          "text": [
            "Enter vote_average:  7.7\n",
            "Enter popularity:  26.4\n",
            "Enter budget:  30000000\n",
            "Enter num_genres:  3\n",
            "Enter num_production_companies:  1\n",
            "Enter release_year:  1995\n",
            "Enter release_month:  10\n",
            "Enter release_day:  30\n"
          ]
        },
        {
          "name": "stdout",
          "output_type": "stream",
          "text": [
            "Your expected revenue is:  2186236600000000.0\n"
          ]
        }
      ],
      "source": [
        "def get_user_input():\n",
        "    # List of features\n",
        "    features = ['vote_average', 'popularity', 'budget', 'num_genres', 'num_production_companies', 'release_year', 'release_month', 'release_day']\n",
        "    user_input = []\n",
        "\n",
        "    # Ask the user for each feature\n",
        "    for feature in features:\n",
        "        # Input validation loop\n",
        "        while True:\n",
        "            try:\n",
        "                value = float(input(f\"Enter {feature}: \"))\n",
        "                user_input.append(value)\n",
        "                break\n",
        "            except ValueError:\n",
        "                print(\"Invalid input. Please enter a numeric value.\")\n",
        "\n",
        "    return user_input\n",
        "\n",
        "def predict_revenue(input_features, model1, model2, net, scaler):\n",
        "    # Scale input features\n",
        "    # input_features_scaled = scaler.transform([input_features])\n",
        "\n",
        "    # Convert scaled (or unscaled if scaler is not used) features to tensor\n",
        "    input_features_tensor = torch.tensor([input_features], dtype=torch.float32)  # Ensure input is 2D\n",
        "\n",
        "    # Set models to evaluation mode\n",
        "    model1.eval()\n",
        "    model2.eval()\n",
        "\n",
        "    # Make predictions with linear regression models\n",
        "    with torch.no_grad():  # Disable gradient computation\n",
        "        predicted_rating = model1(input_features_tensor)\n",
        "        predicted_popularity = model2(input_features_tensor)\n",
        "\n",
        "    # Calculate actor popularity\n",
        "    actor_popularity = (0.5 * predicted_rating + 0.5 * predicted_popularity)\n",
        "\n",
        "    # Predict with neural network\n",
        "    net.eval()  # Set the network to evaluation mode\n",
        "    with torch.no_grad():\n",
        "        revenue_prediction = net(actor_popularity)\n",
        "\n",
        "    return revenue_prediction.numpy().flatten()\n",
        "\n",
        "# Get user input\n",
        "user_input = get_user_input()\n",
        "\n",
        "# Predict revenue\n",
        "revenue_prediction = predict_revenue(user_input, model1, model2, net, scaler)\n",
        "print(\"Your expected revenue is: \", revenue_prediction[0])"
      ]
    },
    {
      "cell_type": "code",
      "execution_count": null,
      "metadata": {
        "execution": {
          "iopub.status.busy": "2023-12-07T13:44:48.887304Z",
          "iopub.status.idle": "2023-12-07T13:44:48.887716Z",
          "shell.execute_reply": "2023-12-07T13:44:48.887565Z",
          "shell.execute_reply.started": "2023-12-07T13:44:48.887548Z"
        },
        "id": "nhltYXujL7H5",
        "trusted": true
      },
      "outputs": [],
      "source": []
    },
    {
      "cell_type": "code",
      "execution_count": null,
      "metadata": {
        "id": "qTfAyt75L7H5"
      },
      "outputs": [],
      "source": []
    }
  ],
  "metadata": {
    "colab": {
      "provenance": []
    },
    "kaggle": {
      "accelerator": "gpu",
      "dataSources": [
        {
          "datasetId": 3405,
          "sourceId": 6663,
          "sourceType": "datasetVersion"
        }
      ],
      "dockerImageVersionId": 30587,
      "isGpuEnabled": true,
      "isInternetEnabled": false,
      "language": "python",
      "sourceType": "notebook"
    },
    "kernelspec": {
      "display_name": "Python 3",
      "language": "python",
      "name": "python3"
    },
    "language_info": {
      "codemirror_mode": {
        "name": "ipython",
        "version": 3
      },
      "file_extension": ".py",
      "mimetype": "text/x-python",
      "name": "python",
      "nbconvert_exporter": "python",
      "pygments_lexer": "ipython3",
      "version": "3.10.12"
    }
  },
  "nbformat": 4,
  "nbformat_minor": 0
}
